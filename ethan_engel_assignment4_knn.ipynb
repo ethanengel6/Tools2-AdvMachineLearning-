{
 "cells": [
  {
   "cell_type": "code",
   "execution_count": 92,
   "id": "b167bc61-86b8-469e-a170-026e1b5bfad3",
   "metadata": {},
   "outputs": [],
   "source": [
    "import pandas as pd\n",
    "import numpy as np\n",
    "import warnings\n",
    "warnings.filterwarnings('ignore')\n",
    "from sklearn.neighbors import KNeighborsRegressor,KNeighborsClassifier\n",
    "from sklearn.metrics import mean_squared_error, accuracy_score\n",
    "from sklearn.preprocessing import StandardScaler\n",
    "from sklearn.pipeline import Pipeline\n",
    "from sklearn.ensemble import RandomForestRegressor,RandomForestClassifier\n",
    "from sklearn.model_selection import GridSearchCV,train_test_split\n",
    "import seaborn as sns\n",
    "from statistics import mean"
   ]
  },
  {
   "cell_type": "code",
   "execution_count": 3,
   "id": "d1ef56dc-73e4-4373-bd04-04ba37904094",
   "metadata": {},
   "outputs": [],
   "source": [
    "delivery_train=pd.read_csv(\"delivery_time_train_data.csv\")\n",
    "delivery_test=pd.read_csv(\"delivery_time_test_data.csv\")\n",
    "student_train=pd.read_csv(\"student_train_data.csv\")\n",
    "student_test=pd.read_csv(\"student_test_data.csv\")"
   ]
  },
  {
   "cell_type": "code",
   "execution_count": 4,
   "id": "1d1f5e34-459b-4f80-90e0-69d498add11c",
   "metadata": {},
   "outputs": [
    {
     "name": "stdout",
     "output_type": "stream",
     "text": [
      "   Miles  Deliveries  Time\n",
      "0    100           4   9.3\n",
      "1     50           3   4.8\n",
      "2    100           4   8.9\n",
      "3    100           2   6.5\n",
      "4     50           2   4.2    Miles  Deliveries  Time\n",
      "0     50           3   4.6\n",
      "1     65           2   5.5\n",
      "2     80           1   6.3\n",
      "3     70           1   6.2\n",
      "4     70           5   8.5     GPA  Age  Dropped\n",
      "0  3.78   21        0\n",
      "1  2.38   27        0\n",
      "2  3.05   21        1\n",
      "3  2.19   28        1\n",
      "4  3.22   23        0     GPA  Age  Dropped\n",
      "0  2.49   26        1\n",
      "1  2.67   29        0\n",
      "2  2.86   29        1\n",
      "3  2.21   26        0\n",
      "4  2.91   20        1\n"
     ]
    }
   ],
   "source": [
    "print(delivery_train.head(),delivery_test.head(),student_train.head(),student_test.head())\n"
   ]
  },
  {
   "cell_type": "code",
   "execution_count": 5,
   "id": "8860d3c2-8af4-4c66-b70e-dfe5f0386980",
   "metadata": {},
   "outputs": [],
   "source": [
    "X_delivery_train=delivery_train[['Miles','Deliveries']]\n",
    "y_delivery_train=delivery_train[['Time']]\n",
    "\n",
    "X_delivery_test=delivery_test[['Miles','Deliveries']]\n",
    "y_delivery_test=delivery_test[['Time']]\n",
    "\n",
    "X_student_train=student_train[['GPA','Age']]\n",
    "y_student_train=student_train[['Dropped']]\n",
    "\n",
    "X_student_test=student_test[['GPA','Age']]\n",
    "y_student_test=student_test[['Dropped']]"
   ]
  },
  {
   "cell_type": "code",
   "execution_count": 6,
   "id": "7d0566e7-d646-48a3-b35c-17486c33be6f",
   "metadata": {},
   "outputs": [
    {
     "name": "stdout",
     "output_type": "stream",
     "text": [
      "(199, 2) (199, 1) (101, 2) (101, 1) (400, 2) (400, 1) (100, 2) (100, 1)\n"
     ]
    }
   ],
   "source": [
    "print(X_delivery_train.shape,y_delivery_train.shape,X_delivery_test.shape,y_delivery_test.shape,\n",
    "     X_student_train.shape,y_student_train.shape,X_student_test.shape,y_student_test.shape)"
   ]
  },
  {
   "cell_type": "code",
   "execution_count": 6,
   "id": "e6401a3f-d5bc-4376-82d7-f2358d76abac",
   "metadata": {},
   "outputs": [],
   "source": [
    "def knn_predict(X_train,y_train,X_test,k):\n",
    "    y_pred=[]\n",
    "                                                          \n",
    "    for i in range(0,len(X_test)):\n",
    "        pred_df = pd.DataFrame(0,index=range(len(X_train)),columns=['y_train','distance'])\n",
    "        \n",
    "        for j in range(0,len(X_train)):\n",
    "            sqr=((X_test.iloc[i][0]-X_train.iloc[j][0])**2+(X_test.iloc[i][1]-X_train.iloc[j][1])**2)\n",
    "            \n",
    "            pred_df['y_train'][j]=y_train.iloc[j]\n",
    "            pred_df['distance'][j]=sqr**.5\n",
    "            pred_df['distance'] = pred_df['distance'].astype(float)\n",
    "            \n",
    "        neighbor_df=pred_df.nsmallest(k, 'distance')\n",
    "        y_pred.append(neighbor_df[\"y_train\"].mean())\n",
    "        \n",
    "    return(y_pred)\n",
    "\n",
    "\n",
    "y_delivery_test_pred=(knn_predict(X_delivery_train,y_delivery_train,X_delivery_test,30))    \n",
    "y_delivery_train_pred=(knn_predict(X_delivery_train,y_delivery_train,X_delivery_train,30)) \n"
   ]
  },
  {
   "cell_type": "code",
   "execution_count": 7,
   "id": "418187b5-5888-4eef-9182-2d5abef78d09",
   "metadata": {},
   "outputs": [
    {
     "name": "stdout",
     "output_type": "stream",
     "text": [
      "1.703556411966999 1.3402410652814878\n"
     ]
    }
   ],
   "source": [
    "def mse(test,test_pred):\n",
    "    test['predictions']=test_pred\n",
    "    test['sq_err']=(test['Time']-test['predictions'])**2\n",
    "    return(test['sq_err'].mean())\n",
    "\n",
    "print(mse(y_delivery_test,y_delivery_test_pred),mse(y_delivery_train,y_delivery_train_pred))\n"
   ]
  },
  {
   "cell_type": "code",
   "execution_count": 18,
   "id": "6add0bae-d127-4631-b5d4-40f585c56ee8",
   "metadata": {},
   "outputs": [
    {
     "data": {
      "text/plain": [
       "<AxesSubplot:xlabel='k_neighbors'>"
      ]
     },
     "execution_count": 18,
     "metadata": {},
     "output_type": "execute_result"
    },
    {
     "data": {
      "image/png": "[encoded data removed]",
      "text/plain": [
       "<Figure size 640x480 with 1 Axes>"
      ]
     },
     "metadata": {},
     "output_type": "display_data"
    }
   ],
   "source": [
    "mse_lst=[[1.66,.873],[1.15,.544],[1.14,.505],[1.14,.543],[1.14,.584],[1.17,.66],[1.26,.77]\n",
    "         ,[1.36,.85],[1.4,.93],[1.47,.97]]\n",
    "\n",
    "mse_df = pd.DataFrame(mse_lst, columns =['Test_mse', 'Train_mse'])\n",
    "mse_df.index = mse_df.index + 1\n",
    "mse_df = mse_df.rename_axis('k_neighbors')\n",
    "sns.scatterplot(data=mse_df)"
   ]
  },
  {
   "cell_type": "code",
   "execution_count": 7,
   "id": "4e1fd510-1c99-4206-bf4a-8b9645e2a113",
   "metadata": {},
   "outputs": [],
   "source": [
    "KNN_reg= KNeighborsRegressor()\n",
    "KNN_reg = KNN_reg.fit(X_delivery_train,y_delivery_train)\n"
   ]
  },
  {
   "cell_type": "code",
   "execution_count": 8,
   "id": "78c13aba-14e7-4a55-a9b3-b4f930d2576a",
   "metadata": {},
   "outputs": [],
   "source": [
    "y_train_pred = KNN_reg.predict(X_delivery_train)\n",
    "y_test_pred = KNN_reg.predict(X_delivery_test)\n"
   ]
  },
  {
   "cell_type": "code",
   "execution_count": 9,
   "id": "00ef5bcc-c887-4643-8f1f-ce8f7739944a",
   "metadata": {},
   "outputs": [
    {
     "data": {
      "text/plain": [
       "0.5970894472361807"
      ]
     },
     "execution_count": 9,
     "metadata": {},
     "output_type": "execute_result"
    }
   ],
   "source": [
    "mean_squared_error(y_delivery_train,y_train_pred) "
   ]
  },
  {
   "cell_type": "code",
   "execution_count": 10,
   "id": "d03db9da-2307-445b-aed8-33eb8aab7a2d",
   "metadata": {},
   "outputs": [
    {
     "data": {
      "text/plain": [
       "1.142752475247525"
      ]
     },
     "execution_count": 10,
     "metadata": {},
     "output_type": "execute_result"
    }
   ],
   "source": [
    "mean_squared_error(y_delivery_test,y_test_pred) "
   ]
  },
  {
   "cell_type": "code",
   "execution_count": 11,
   "id": "e3ca4951-d8e8-4ed7-899b-c2b34da63937",
   "metadata": {},
   "outputs": [],
   "source": [
    "pipe = Pipeline([('scaler', StandardScaler()), ('KNN', KNeighborsRegressor())])\n",
    "preds=pipe.fit(X_delivery_train, y_delivery_train)"
   ]
  },
  {
   "cell_type": "code",
   "execution_count": 12,
   "id": "2ec237ee-d5f8-42f5-838a-c27ca0ec40c0",
   "metadata": {},
   "outputs": [
    {
     "data": {
      "text/plain": [
       "0.68630099009901"
      ]
     },
     "execution_count": 12,
     "metadata": {},
     "output_type": "execute_result"
    }
   ],
   "source": [
    "stsc=StandardScaler() \n",
    "X_delivery_test =stsc.fit_transform(X_delivery_test)\n",
    "KNN_reg=KNN_reg.fit(X_delivery_test,y_delivery_test)\n",
    "y_test_pred2 = KNN_reg.predict(X_delivery_test)\n",
    "\n",
    "mean_squared_error(y_delivery_test,y_test_pred2) "
   ]
  },
  {
   "cell_type": "code",
   "execution_count": 13,
   "id": "bb3e0d72-e3a0-45ec-8eb9-07f2effc2258",
   "metadata": {},
   "outputs": [
    {
     "data": {
      "text/plain": [
       "0.4331277631071983"
      ]
     },
     "execution_count": 13,
     "metadata": {},
     "output_type": "execute_result"
    }
   ],
   "source": [
    "rf=RandomForestRegressor()\n",
    "X_delivery_train =stsc.fit_transform(X_delivery_train)\n",
    "rf = rf.fit(X_delivery_train,y_delivery_train)\n",
    "y_delivery_train_pred3 = rf.predict(X_delivery_train)\n",
    "y_delivery_test_pred3 = rf.predict(X_delivery_test)\n",
    "\n",
    "mean_squared_error(y_delivery_train,y_delivery_train_pred3)"
   ]
  },
  {
   "cell_type": "code",
   "execution_count": 14,
   "id": "385073ac-68bf-4653-9efd-0f053ddd7ca9",
   "metadata": {},
   "outputs": [
    {
     "data": {
      "text/plain": [
       "1.0744716817946216"
      ]
     },
     "execution_count": 14,
     "metadata": {},
     "output_type": "execute_result"
    }
   ],
   "source": [
    "mean_squared_error(y_delivery_test,y_delivery_test_pred3)"
   ]
  },
  {
   "cell_type": "code",
   "execution_count": 15,
   "id": "df82bd04-2d4b-43c9-bfa9-c57782e9d88b",
   "metadata": {},
   "outputs": [],
   "source": [
    "def knn_predict_class(X_train,y_train,X_test,k=5):\n",
    "    y_pred=[]\n",
    "                                                          \n",
    "    for i in range(0,len(X_test)):\n",
    "        pred_df2 = pd.DataFrame(0,index=range(len(X_train)),columns=['y_train','distance'])\n",
    "        \n",
    "        for j in range(0,len(X_train)):\n",
    "            sqr=((X_test[i][0]-X_train[j][0])**2+(X_test[i][1]-X_train[j][1])**2)\n",
    "            \n",
    "            pred_df2['y_train'][j]=y_train['Dropped'][j]\n",
    "            pred_df2['distance'][j]=sqr**.5\n",
    "            pred_df2['distance'] = pred_df2['distance'].astype(float)\n",
    "            \n",
    "        neighbor_df2=pred_df2.nsmallest(k, 'distance')\n",
    "        y_pred.append(neighbor_df2[\"y_train\"].mode())\n",
    "       \n",
    "        #print(c.dtype)\n",
    "    return(y_pred)"
   ]
  },
  {
   "cell_type": "code",
   "execution_count": 62,
   "id": "6c138dc1-925b-4781-b739-9cc5d769fefb",
   "metadata": {},
   "outputs": [],
   "source": [
    "\n",
    "X_student_train =stsc.fit_transform(X_student_train)\n",
    "X_student_test=stsc.fit_transform(X_student_test)\n",
    "y_student_test_pred=(knn_predict_class(X_student_train,y_student_train,X_student_test,5))  \n",
    "\n"
   ]
  },
  {
   "cell_type": "code",
   "execution_count": 63,
   "id": "7c8d36f3-03ca-46e1-ac22-94482ad32dba",
   "metadata": {},
   "outputs": [
    {
     "data": {
      "text/plain": [
       "0.72"
      ]
     },
     "execution_count": 63,
     "metadata": {},
     "output_type": "execute_result"
    }
   ],
   "source": [
    "def overall_accuracy(y,y_pred):\n",
    "    counter=0\n",
    "    for pr in range (len(y)):\n",
    "        if(y[pr]==y_pred[pr][0])==True:\n",
    "            counter +=1\n",
    "    return(counter/(len(y)))\n",
    "\n",
    "overall_accuracy(y_student_test[\"Dropped\"],np.array(y_student_test_pred))\n"
   ]
  },
  {
   "cell_type": "code",
   "execution_count": 81,
   "id": "7b02b8c2-06ca-4039-af06-95bb696a2a06",
   "metadata": {},
   "outputs": [
    {
     "name": "stdout",
     "output_type": "stream",
     "text": [
      "Fitting 10 folds for each of 99 candidates, totalling 990 fits\n",
      "{'n_neighbors': 50} 0.7125\n"
     ]
    }
   ],
   "source": [
    "neigh = KNeighborsClassifier()\n",
    "k_range = list(range(1, 100))\n",
    "param_grid = dict(n_neighbors=k_range)\n",
    "grid = GridSearchCV(neigh, param_grid, cv=10, scoring='accuracy',verbose=1)\n",
    "gs=grid.fit(X_student_train,y_student_train)\n",
    "print(gs.best_params_)\n"
   ]
  },
  {
   "cell_type": "code",
   "execution_count": 84,
   "id": "d037f8e0-6373-463e-b2cc-951475924501",
   "metadata": {},
   "outputs": [
    {
     "data": {
      "text/plain": [
       "0.77"
      ]
     },
     "execution_count": 84,
     "metadata": {},
     "output_type": "execute_result"
    }
   ],
   "source": [
    "neigh2 = KNeighborsClassifier(n_neighbors=50)\n",
    "neigh2.fit(X_student_train,y_student_train)\n",
    "y_student_test_pred4=neigh2.predict(X_student_test) \n",
    "accuracy_score(y_student_test,y_student_test_pred4)"
   ]
  },
  {
   "cell_type": "code",
   "execution_count": 85,
   "id": "638b66d8-44bb-4c06-b585-8cd014000f2c",
   "metadata": {},
   "outputs": [
    {
     "name": "stdout",
     "output_type": "stream",
     "text": [
      "0.65\n"
     ]
    }
   ],
   "source": [
    "rf2=RandomForestClassifier()\n",
    "rf2 = rf2.fit(X_student_train,y_student_train)\n",
    "y_student_test_pred3 = rf2.predict(X_student_test)\n",
    "print( accuracy_score(y_student_test,y_student_test_pred3))"
   ]
  },
  {
   "cell_type": "code",
   "execution_count": 138,
   "id": "3258cfee-aa22-4fea-b5eb-f4de4b2bf1d3",
   "metadata": {},
   "outputs": [
    {
     "data": {
      "text/html": [
       "<div>\n",
       "<style scoped>\n",
       "    .dataframe tbody tr th:only-of-type {\n",
       "        vertical-align: middle;\n",
       "    }\n",
       "\n",
       "    .dataframe tbody tr th {\n",
       "        vertical-align: top;\n",
       "    }\n",
       "\n",
       "    .dataframe thead th {\n",
       "        text-align: right;\n",
       "    }\n",
       "</style>\n",
       "<table border=\"1\" class=\"dataframe\">\n",
       "  <thead>\n",
       "    <tr style=\"text-align: right;\">\n",
       "      <th></th>\n",
       "      <th>ph</th>\n",
       "      <th>Hardness</th>\n",
       "      <th>Solids</th>\n",
       "      <th>Chloramines</th>\n",
       "      <th>Sulfate</th>\n",
       "      <th>Conductivity</th>\n",
       "      <th>Organic_carbon</th>\n",
       "      <th>Trihalomethanes</th>\n",
       "      <th>Turbidity</th>\n",
       "      <th>Potability</th>\n",
       "    </tr>\n",
       "  </thead>\n",
       "  <tbody>\n",
       "    <tr>\n",
       "      <th>1555</th>\n",
       "      <td>7.033945</td>\n",
       "      <td>246.622871</td>\n",
       "      <td>15428.450920</td>\n",
       "      <td>7.570769</td>\n",
       "      <td>305.616422</td>\n",
       "      <td>516.217847</td>\n",
       "      <td>17.526819</td>\n",
       "      <td>91.602794</td>\n",
       "      <td>3.931731</td>\n",
       "      <td>1</td>\n",
       "    </tr>\n",
       "    <tr>\n",
       "      <th>461</th>\n",
       "      <td>7.163999</td>\n",
       "      <td>203.781598</td>\n",
       "      <td>34226.072130</td>\n",
       "      <td>9.412035</td>\n",
       "      <td>320.258917</td>\n",
       "      <td>415.577513</td>\n",
       "      <td>16.221044</td>\n",
       "      <td>90.184208</td>\n",
       "      <td>3.354322</td>\n",
       "      <td>0</td>\n",
       "    </tr>\n",
       "    <tr>\n",
       "      <th>106</th>\n",
       "      <td>7.036752</td>\n",
       "      <td>213.541932</td>\n",
       "      <td>22539.711610</td>\n",
       "      <td>6.957204</td>\n",
       "      <td>334.041186</td>\n",
       "      <td>463.398847</td>\n",
       "      <td>11.623019</td>\n",
       "      <td>69.615850</td>\n",
       "      <td>3.398593</td>\n",
       "      <td>0</td>\n",
       "    </tr>\n",
       "    <tr>\n",
       "      <th>1751</th>\n",
       "      <td>7.036752</td>\n",
       "      <td>237.705681</td>\n",
       "      <td>21862.753610</td>\n",
       "      <td>8.961425</td>\n",
       "      <td>318.172687</td>\n",
       "      <td>434.388304</td>\n",
       "      <td>11.665329</td>\n",
       "      <td>59.775642</td>\n",
       "      <td>3.943291</td>\n",
       "      <td>0</td>\n",
       "    </tr>\n",
       "    <tr>\n",
       "      <th>2273</th>\n",
       "      <td>7.393978</td>\n",
       "      <td>209.619214</td>\n",
       "      <td>17939.704700</td>\n",
       "      <td>7.233736</td>\n",
       "      <td>333.073546</td>\n",
       "      <td>349.209623</td>\n",
       "      <td>13.579349</td>\n",
       "      <td>68.152467</td>\n",
       "      <td>3.782728</td>\n",
       "      <td>0</td>\n",
       "    </tr>\n",
       "    <tr>\n",
       "      <th>737</th>\n",
       "      <td>6.446252</td>\n",
       "      <td>204.253563</td>\n",
       "      <td>11104.250510</td>\n",
       "      <td>7.648613</td>\n",
       "      <td>333.073546</td>\n",
       "      <td>418.041220</td>\n",
       "      <td>16.625627</td>\n",
       "      <td>66.622485</td>\n",
       "      <td>4.976958</td>\n",
       "      <td>1</td>\n",
       "    </tr>\n",
       "    <tr>\n",
       "      <th>2002</th>\n",
       "      <td>7.035037</td>\n",
       "      <td>220.501888</td>\n",
       "      <td>19746.493250</td>\n",
       "      <td>7.059383</td>\n",
       "      <td>371.912615</td>\n",
       "      <td>536.183900</td>\n",
       "      <td>15.303433</td>\n",
       "      <td>67.901758</td>\n",
       "      <td>4.557029</td>\n",
       "      <td>1</td>\n",
       "    </tr>\n",
       "    <tr>\n",
       "      <th>1456</th>\n",
       "      <td>7.036752</td>\n",
       "      <td>218.405545</td>\n",
       "      <td>11370.649170</td>\n",
       "      <td>6.866826</td>\n",
       "      <td>392.841907</td>\n",
       "      <td>284.551173</td>\n",
       "      <td>16.095520</td>\n",
       "      <td>66.622485</td>\n",
       "      <td>3.266562</td>\n",
       "      <td>0</td>\n",
       "    </tr>\n",
       "    <tr>\n",
       "      <th>2037</th>\n",
       "      <td>7.493291</td>\n",
       "      <td>216.381880</td>\n",
       "      <td>9465.323905</td>\n",
       "      <td>4.947531</td>\n",
       "      <td>341.460632</td>\n",
       "      <td>501.345347</td>\n",
       "      <td>11.247507</td>\n",
       "      <td>52.951363</td>\n",
       "      <td>3.748747</td>\n",
       "      <td>1</td>\n",
       "    </tr>\n",
       "    <tr>\n",
       "      <th>1803</th>\n",
       "      <td>6.530796</td>\n",
       "      <td>138.007672</td>\n",
       "      <td>19174.593250</td>\n",
       "      <td>7.347952</td>\n",
       "      <td>333.073546</td>\n",
       "      <td>490.644138</td>\n",
       "      <td>16.337949</td>\n",
       "      <td>66.622485</td>\n",
       "      <td>3.181635</td>\n",
       "      <td>0</td>\n",
       "    </tr>\n",
       "  </tbody>\n",
       "</table>\n",
       "</div>"
      ],
      "text/plain": [
       "            ph    Hardness        Solids  Chloramines     Sulfate  \\\n",
       "1555  7.033945  246.622871  15428.450920     7.570769  305.616422   \n",
       "461   7.163999  203.781598  34226.072130     9.412035  320.258917   \n",
       "106   7.036752  213.541932  22539.711610     6.957204  334.041186   \n",
       "1751  7.036752  237.705681  21862.753610     8.961425  318.172687   \n",
       "2273  7.393978  209.619214  17939.704700     7.233736  333.073546   \n",
       "737   6.446252  204.253563  11104.250510     7.648613  333.073546   \n",
       "2002  7.035037  220.501888  19746.493250     7.059383  371.912615   \n",
       "1456  7.036752  218.405545  11370.649170     6.866826  392.841907   \n",
       "2037  7.493291  216.381880   9465.323905     4.947531  341.460632   \n",
       "1803  6.530796  138.007672  19174.593250     7.347952  333.073546   \n",
       "\n",
       "      Conductivity  Organic_carbon  Trihalomethanes  Turbidity  Potability  \n",
       "1555    516.217847       17.526819        91.602794   3.931731           1  \n",
       "461     415.577513       16.221044        90.184208   3.354322           0  \n",
       "106     463.398847       11.623019        69.615850   3.398593           0  \n",
       "1751    434.388304       11.665329        59.775642   3.943291           0  \n",
       "2273    349.209623       13.579349        68.152467   3.782728           0  \n",
       "737     418.041220       16.625627        66.622485   4.976958           1  \n",
       "2002    536.183900       15.303433        67.901758   4.557029           1  \n",
       "1456    284.551173       16.095520        66.622485   3.266562           0  \n",
       "2037    501.345347       11.247507        52.951363   3.748747           1  \n",
       "1803    490.644138       16.337949        66.622485   3.181635           0  "
      ]
     },
     "execution_count": 138,
     "metadata": {},
     "output_type": "execute_result"
    }
   ],
   "source": [
    "h2o_df=pd.read_csv(\"h2o_potability.csv\")\n",
    "h2o_df=h2o_df.fillna(h2o_df.median())\n",
    "h2o_df.sample(10)"
   ]
  },
  {
   "cell_type": "code",
   "execution_count": 128,
   "id": "1ab80402-db5e-4720-8ae4-5b5b9f18490e",
   "metadata": {},
   "outputs": [
    {
     "data": {
      "text/plain": [
       "StandardScaler()"
      ]
     },
     "execution_count": 128,
     "metadata": {},
     "output_type": "execute_result"
    }
   ],
   "source": [
    "\n",
    "potability_vec=h2o_df['Potability']\n",
    "h2o_df.drop(columns=['Potability'],inplace=True)\n",
    "stsc.fit(h2o_df)"
   ]
  },
  {
   "cell_type": "code",
   "execution_count": 129,
   "id": "454b3d70-aaaa-4451-9d15-1ac05864c988",
   "metadata": {},
   "outputs": [],
   "source": [
    "h2o_train, h2o_test, pot_train, pot_test = train_test_split(h2o_df, potability_vec, test_size=0.3, random_state=42)"
   ]
  },
  {
   "cell_type": "code",
   "execution_count": 130,
   "id": "2526d5a7-f049-4387-8a04-b4b6a3c17430",
   "metadata": {},
   "outputs": [
    {
     "data": {
      "text/plain": [
       "0.7030091583078936"
      ]
     },
     "execution_count": 130,
     "metadata": {},
     "output_type": "execute_result"
    }
   ],
   "source": [
    "neigh3 = KNeighborsClassifier()\n",
    "neigh3.fit(h2o_train,pot_train)\n",
    "pot_train_prd=neigh3.predict(h2o_train)\n",
    "accuracy_score(pot_train,pot_train_prd)"
   ]
  },
  {
   "cell_type": "code",
   "execution_count": 131,
   "id": "c1b6df2d-c1d5-4941-b33f-6dde87bb861d",
   "metadata": {},
   "outputs": [
    {
     "name": "stdout",
     "output_type": "stream",
     "text": [
      "Fitting 10 folds for each of 99 candidates, totalling 990 fits\n",
      "{'n_neighbors': 94}\n"
     ]
    }
   ],
   "source": [
    "grid2 = GridSearchCV(neigh3, param_grid, cv=10, scoring='accuracy',verbose=1)\n",
    "gs2=grid2.fit(h2o_train,pot_train)\n",
    "print(gs2.best_params_)\n"
   ]
  },
  {
   "cell_type": "code",
   "execution_count": 137,
   "id": "1dfd3ddb-3e2e-407d-98ae-574d47bb60d4",
   "metadata": {},
   "outputs": [
    {
     "name": "stdout",
     "output_type": "stream",
     "text": [
      "0.6044483209768862 0.6215666327568667\n"
     ]
    }
   ],
   "source": [
    "neigh4 = KNeighborsClassifier(n_neighbors=94)\n",
    "neigh4.fit(h2o_train,pot_train)\n",
    "pot_train_prd2=neigh4.predict(h2o_train) \n",
    "pot_test_prd=neigh4.predict(h2o_test) \n",
    "print(accuracy_score(pot_train,pot_train_prd2),accuracy_score(pot_test,pot_test_prd))"
   ]
  },
  {
   "cell_type": "code",
   "execution_count": null,
   "id": "e8ceca78-9d52-4a23-9ddf-614e41e72c01",
   "metadata": {},
   "outputs": [],
   "source": []
  }
 ],
 "metadata": {
  "kernelspec": {
   "display_name": "Python 3 (ipykernel)",
   "language": "python",
   "name": "python3"
  },
  "language_info": {
   "codemirror_mode": {
    "name": "ipython",
    "version": 3
   },
   "file_extension": ".py",
   "mimetype": "text/x-python",
   "name": "python",
   "nbconvert_exporter": "python",
   "pygments_lexer": "ipython3",
   "version": "3.8.13"
  }
 },
 "nbformat": 4,
 "nbformat_minor": 5
}
