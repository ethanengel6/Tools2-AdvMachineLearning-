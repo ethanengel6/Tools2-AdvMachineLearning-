{
 "cells": [
  {
   "cell_type": "code",
   "execution_count": 1,
   "id": "0ad735a9-cb8b-46b9-b74e-3ae0b666df3f",
   "metadata": {},
   "outputs": [],
   "source": [
    "from sklearn.naive_bayes import GaussianNB,CategoricalNB,MultinomialNB\n",
    "import pandas as pd\n",
    "import numpy as np\n",
    "from sklearn.model_selection import train_test_split,cross_val_score,GridSearchCV\n",
    "from sklearn.preprocessing import StandardScaler\n",
    "from sklearn.metrics import mean_squared_error, accuracy_score\n",
    "import warnings\n",
    "warnings.filterwarnings('ignore')\n",
    "from scipy.stats import norm\n",
    "import re\n",
    "import string\n",
    "from nltk.corpus import stopwords\n",
    "from sklearn.feature_extraction.text import TfidfVectorizer\n"
   ]
  },
  {
   "cell_type": "code",
   "execution_count": 2,
   "id": "b7c737a6-5cdc-4b45-bb8a-ab7d23a7e302",
   "metadata": {},
   "outputs": [],
   "source": [
    "cat_inc_df=pd.read_csv(\"income_evaluation_cat.csv \")\n",
    "\n"
   ]
  },
  {
   "cell_type": "code",
   "execution_count": 3,
   "id": "fba6dcd0-b1b3-4f6b-9ebc-c0d936fb1b79",
   "metadata": {},
   "outputs": [
    {
     "name": "stdout",
     "output_type": "stream",
     "text": [
      "[' State-gov' ' Self-emp-not-inc' ' Private' ' Federal-gov' ' Local-gov'\n",
      " ' ?' ' Self-emp-inc' ' Without-pay' ' Never-worked']\n",
      "[' Bachelors' ' HS-grad' ' 11th' ' Masters' ' 9th' ' Some-college'\n",
      " ' Assoc-acdm' ' Assoc-voc' ' 7th-8th' ' Doctorate' ' Prof-school'\n",
      " ' 5th-6th' ' 10th' ' 1st-4th' ' Preschool' ' 12th']\n",
      "[' White' ' Black' ' Asian-Pac-Islander' ' Amer-Indian-Eskimo' ' Other']\n",
      "[' Male' ' Female']\n",
      "[' <=50K' ' >50K']\n"
     ]
    }
   ],
   "source": [
    "for col in cat_inc_df:\n",
    "    print(cat_inc_df[col].unique())"
   ]
  },
  {
   "cell_type": "code",
   "execution_count": 4,
   "id": "f01afd5a-96da-4829-80b1-439234b7f6f9",
   "metadata": {},
   "outputs": [
    {
     "data": {
      "text/plain": [
       " <=50K    0.75919\n",
       " >50K     0.24081\n",
       "Name:  income, dtype: float64"
      ]
     },
     "execution_count": 4,
     "metadata": {},
     "output_type": "execute_result"
    }
   ],
   "source": [
    "#Prior class probabilities\n",
    "priors=(cat_inc_df[' income'].value_counts())/len(cat_inc_df)\n",
    "priors"
   ]
  },
  {
   "cell_type": "code",
   "execution_count": 5,
   "id": "faf11e15-546d-49ec-91c4-135068ef7d08",
   "metadata": {},
   "outputs": [
    {
     "name": "stdout",
     "output_type": "stream",
     "text": [
      "24720 7841\n"
     ]
    }
   ],
   "source": [
    "under_df=cat_inc_df[cat_inc_df[' income']==' <=50K'] \n",
    "over_df=cat_inc_df[cat_inc_df[' income']==' >50K'] \n",
    "print(len(under_df),len(over_df))"
   ]
  },
  {
   "cell_type": "code",
   "execution_count": 6,
   "id": "814be129-ff6d-4d9a-b288-777db05422da",
   "metadata": {},
   "outputs": [
    {
     "data": {
      "text/plain": [
       "[0.7173543689320389,\n",
       " 0.1267799352750809,\n",
       " 0.8373381877022654,\n",
       " 0.38802588996763754]"
      ]
     },
     "execution_count": 6,
     "metadata": {},
     "output_type": "execute_result"
    }
   ],
   "source": [
    "under_post_probs=([(under_df[' workclass'][under_df[' workclass']==' Private'].count())/len(under_df),(under_df[' education'][under_df[' education']==' Bachelors'].count())/len(under_df),\n",
    "      (under_df[' race'][under_df[' race']==' White'].count())/len(under_df),(under_df['gender'][under_df['gender']==' Female'].count())/len(under_df)])\n",
    "under_post_probs"
   ]
  },
  {
   "cell_type": "code",
   "execution_count": 7,
   "id": "72363383-1d68-48ec-8560-07d42a1696c5",
   "metadata": {},
   "outputs": [
    {
     "data": {
      "text/plain": [
       "[0.6329549802321133,\n",
       " 0.28325468690218086,\n",
       " 0.9076648386685372,\n",
       " 0.15036347404667771]"
      ]
     },
     "execution_count": 7,
     "metadata": {},
     "output_type": "execute_result"
    }
   ],
   "source": [
    "over_post_probs=([(over_df[' workclass'][over_df[' workclass']==' Private'].count())/len(over_df),(over_df[' education'][over_df[' education']==' Bachelors'].count())/len(over_df),\n",
    "      (over_df[' race'][over_df[' race']==' White'].count())/len(over_df),(over_df['gender'][over_df['gender']==' Female'].count())/len(over_df)])\n",
    "over_post_probs"
   ]
  },
  {
   "cell_type": "code",
   "execution_count": 8,
   "id": "79188cf2-3bab-4f48-95a4-4046d4489f63",
   "metadata": {},
   "outputs": [
    {
     "name": "stdout",
     "output_type": "stream",
     "text": [
      "0.022433477852309085 0.005892390339262951\n"
     ]
    }
   ],
   "source": [
    "under_prod = priors[0]*(np.prod(under_post_probs))\n",
    "over_prod = priors[1]*(np.prod(over_post_probs))\n",
    "print(under_prod,over_prod)\n",
    "#Since .022 > .0059, the instance should be classified as <$50000"
   ]
  },
  {
   "cell_type": "code",
   "execution_count": 9,
   "id": "28b47414-5107-4c9f-9f9e-6cf0caf02423",
   "metadata": {},
   "outputs": [],
   "source": [
    "inc_enc_df=pd.get_dummies(cat_inc_df, columns=[' workclass',' education',' race','gender'],drop_first=True)\n",
    "inc_label_vec=inc_enc_df[' income']\n",
    "inc_enc_df.drop(columns=' income',inplace=True)"
   ]
  },
  {
   "cell_type": "code",
   "execution_count": 10,
   "id": "14cff1e3-d9dc-495a-8223-8424d37a7430",
   "metadata": {},
   "outputs": [],
   "source": [
    "X_train, X_test, inc_train, inc_test = train_test_split(inc_enc_df, inc_label_vec, test_size=0.3, random_state=42)"
   ]
  },
  {
   "cell_type": "code",
   "execution_count": 11,
   "id": "014225a6-d507-469d-9a02-4508ad063082",
   "metadata": {},
   "outputs": [
    {
     "name": "stdout",
     "output_type": "stream",
     "text": [
      "0.7853194103194103 0.7885146893233699\n"
     ]
    }
   ],
   "source": [
    "cnb=CategoricalNB()\n",
    "cnb.fit(X_train, inc_train)\n",
    "inc_train_pred = cnb.predict(X_train)\n",
    "inc_test_pred = cnb.predict(X_test)\n",
    "print(accuracy_score(inc_train,inc_train_pred),accuracy_score(inc_test,inc_test_pred))"
   ]
  },
  {
   "cell_type": "code",
   "execution_count": 12,
   "id": "237e49ed-621a-4ede-8681-91e84af5f42e",
   "metadata": {},
   "outputs": [
    {
     "name": "stdout",
     "output_type": "stream",
     "text": [
      "24720 7841\n"
     ]
    }
   ],
   "source": [
    "cont_inc_df=pd.read_csv('income_evaluation_continuous.csv')\n",
    "cont_under_df=cont_inc_df[cont_inc_df[' income']==' <=50K'] \n",
    "cont_over_df=cont_inc_df[cont_inc_df[' income']==' >50K'] \n",
    "print(len(cont_under_df),len(cont_over_df))"
   ]
  },
  {
   "cell_type": "code",
   "execution_count": 13,
   "id": "7445f959-ae51-4261-9f9b-1beffa7a7f12",
   "metadata": {},
   "outputs": [
    {
     "data": {
      "text/html": [
       "<div>\n",
       "<style scoped>\n",
       "    .dataframe tbody tr th:only-of-type {\n",
       "        vertical-align: middle;\n",
       "    }\n",
       "\n",
       "    .dataframe tbody tr th {\n",
       "        vertical-align: top;\n",
       "    }\n",
       "\n",
       "    .dataframe thead th {\n",
       "        text-align: right;\n",
       "    }\n",
       "</style>\n",
       "<table border=\"1\" class=\"dataframe\">\n",
       "  <thead>\n",
       "    <tr style=\"text-align: right;\">\n",
       "      <th></th>\n",
       "      <th>under_mean</th>\n",
       "      <th>under_sd</th>\n",
       "      <th>over_mean</th>\n",
       "      <th>over_sd</th>\n",
       "    </tr>\n",
       "  </thead>\n",
       "  <tbody>\n",
       "    <tr>\n",
       "      <th>age</th>\n",
       "      <td>36.783738</td>\n",
       "      <td>14.020088</td>\n",
       "      <td>44.249841</td>\n",
       "      <td>10.519028</td>\n",
       "    </tr>\n",
       "    <tr>\n",
       "      <th>education_num</th>\n",
       "      <td>9.595065</td>\n",
       "      <td>2.436147</td>\n",
       "      <td>11.611657</td>\n",
       "      <td>2.385129</td>\n",
       "    </tr>\n",
       "    <tr>\n",
       "      <th>hours_per_week</th>\n",
       "      <td>38.840210</td>\n",
       "      <td>12.318995</td>\n",
       "      <td>45.473026</td>\n",
       "      <td>11.012971</td>\n",
       "    </tr>\n",
       "  </tbody>\n",
       "</table>\n",
       "</div>"
      ],
      "text/plain": [
       "                under_mean   under_sd  over_mean    over_sd\n",
       "age              36.783738  14.020088  44.249841  10.519028\n",
       "education_num     9.595065   2.436147  11.611657   2.385129\n",
       "hours_per_week   38.840210  12.318995  45.473026  11.012971"
      ]
     },
     "execution_count": 13,
     "metadata": {},
     "output_type": "execute_result"
    }
   ],
   "source": [
    "\n",
    "stats_df = pd.DataFrame(cont_under_df.mean())\n",
    "stats_df['under_sd']=cont_under_df.std()\n",
    "stats_df['over_mean']=cont_over_df.mean()\n",
    "stats_df['over_sd']=cont_over_df.std()\n",
    "stats_df.rename(columns={0: \"under_mean\"},inplace=True)\n",
    "stats_df"
   ]
  },
  {
   "cell_type": "code",
   "execution_count": 14,
   "id": "50b1576b-f809-49f3-92bf-d447c81f0ef2",
   "metadata": {},
   "outputs": [
    {
     "data": {
      "text/plain": [
       " <=50K    0.75919\n",
       " >50K     0.24081\n",
       "Name:  income, dtype: float64"
      ]
     },
     "execution_count": 14,
     "metadata": {},
     "output_type": "execute_result"
    }
   ],
   "source": [
    "cont_priors=(cont_inc_df[' income'].value_counts())/len(cont_inc_df)\n",
    "cont_priors"
   ]
  },
  {
   "cell_type": "code",
   "execution_count": 15,
   "id": "fe9c0d07-0c35-4dcb-92b9-d4712d669d80",
   "metadata": {},
   "outputs": [
    {
     "name": "stdout",
     "output_type": "stream",
     "text": [
      "[0.02531168 0.16151284 0.02857872] [0.01515093 0.1331227  0.03619137]\n"
     ]
    }
   ],
   "source": [
    "X = [30, 10, 45]\n",
    "cont_under_post_probs=norm(stats_df['under_mean'],stats_df['under_sd']).pdf(X)\n",
    "cont_over_post_probs=norm(stats_df['over_mean'],stats_df['over_sd']).pdf(X)\n",
    "print(cont_under_post_probs,cont_over_post_probs)"
   ]
  },
  {
   "cell_type": "code",
   "execution_count": 16,
   "id": "8fccbb31-7b03-4979-8a65-5b7341edc315",
   "metadata": {},
   "outputs": [
    {
     "name": "stdout",
     "output_type": "stream",
     "text": [
      "8.869959848024929e-05 1.7578024002484486e-05\n"
     ]
    }
   ],
   "source": [
    "cont_under_prod = cont_priors[0]*(np.prod(cont_under_post_probs))\n",
    "cont_over_prod = cont_priors[1]*(np.prod(cont_over_post_probs))\n",
    "print(cont_under_prod ,cont_over_prod )\n",
    "#Since .000087 > .0000176, instance should be classified as <=50K"
   ]
  },
  {
   "cell_type": "code",
   "execution_count": 17,
   "id": "663b5b12-df9c-40e7-856a-118d5dc49000",
   "metadata": {},
   "outputs": [
    {
     "data": {
      "text/html": [
       "<div>\n",
       "<style scoped>\n",
       "    .dataframe tbody tr th:only-of-type {\n",
       "        vertical-align: middle;\n",
       "    }\n",
       "\n",
       "    .dataframe tbody tr th {\n",
       "        vertical-align: top;\n",
       "    }\n",
       "\n",
       "    .dataframe thead th {\n",
       "        text-align: right;\n",
       "    }\n",
       "</style>\n",
       "<table border=\"1\" class=\"dataframe\">\n",
       "  <thead>\n",
       "    <tr style=\"text-align: right;\">\n",
       "      <th></th>\n",
       "      <th>age</th>\n",
       "      <th>education_num</th>\n",
       "      <th>hours_per_week</th>\n",
       "    </tr>\n",
       "  </thead>\n",
       "  <tbody>\n",
       "    <tr>\n",
       "      <th>15261</th>\n",
       "      <td>37</td>\n",
       "      <td>13</td>\n",
       "      <td>48</td>\n",
       "    </tr>\n",
       "    <tr>\n",
       "      <th>4435</th>\n",
       "      <td>40</td>\n",
       "      <td>10</td>\n",
       "      <td>30</td>\n",
       "    </tr>\n",
       "    <tr>\n",
       "      <th>9307</th>\n",
       "      <td>29</td>\n",
       "      <td>10</td>\n",
       "      <td>45</td>\n",
       "    </tr>\n",
       "    <tr>\n",
       "      <th>10607</th>\n",
       "      <td>25</td>\n",
       "      <td>9</td>\n",
       "      <td>40</td>\n",
       "    </tr>\n",
       "    <tr>\n",
       "      <th>16348</th>\n",
       "      <td>57</td>\n",
       "      <td>9</td>\n",
       "      <td>40</td>\n",
       "    </tr>\n",
       "    <tr>\n",
       "      <th>19426</th>\n",
       "      <td>31</td>\n",
       "      <td>13</td>\n",
       "      <td>40</td>\n",
       "    </tr>\n",
       "    <tr>\n",
       "      <th>22231</th>\n",
       "      <td>50</td>\n",
       "      <td>10</td>\n",
       "      <td>36</td>\n",
       "    </tr>\n",
       "    <tr>\n",
       "      <th>17526</th>\n",
       "      <td>36</td>\n",
       "      <td>9</td>\n",
       "      <td>50</td>\n",
       "    </tr>\n",
       "  </tbody>\n",
       "</table>\n",
       "</div>"
      ],
      "text/plain": [
       "       age  education_num  hours_per_week\n",
       "15261   37             13              48\n",
       "4435    40             10              30\n",
       "9307    29             10              45\n",
       "10607   25              9              40\n",
       "16348   57              9              40\n",
       "19426   31             13              40\n",
       "22231   50             10              36\n",
       "17526   36              9              50"
      ]
     },
     "execution_count": 17,
     "metadata": {},
     "output_type": "execute_result"
    }
   ],
   "source": [
    "cont_inc_label_vec=cont_inc_df[' income']\n",
    "cont_inc_df.drop(columns=' income',inplace=True)\n",
    "cont_inc_df.sample(8)\n",
    "#X_train, X inc_train, inc_test = _test,train_test_split(inc_enc_df, inc_label_vec, test_size=0.3, random_state=42)"
   ]
  },
  {
   "cell_type": "code",
   "execution_count": 18,
   "id": "e110fee6-7642-4327-89cc-2313b914266d",
   "metadata": {},
   "outputs": [],
   "source": [
    "stsc=StandardScaler()\n",
    "cont_inc_df=stsc.fit_transform(cont_inc_df)\n",
    "X2_train, X2_test, y2_train, y2_test =train_test_split(cont_inc_df, cont_inc_label_vec, test_size=0.3, random_state=42)"
   ]
  },
  {
   "cell_type": "code",
   "execution_count": 19,
   "id": "81fabb35-83d2-4150-913d-844664a74c9c",
   "metadata": {},
   "outputs": [
    {
     "name": "stdout",
     "output_type": "stream",
     "text": [
      "0.7993594243594243 0.7988535162247927\n"
     ]
    }
   ],
   "source": [
    "gnb=GaussianNB() \n",
    "gnb.fit(X2_train, y2_train)\n",
    "cont_train_pred = gnb.predict(X2_train)\n",
    "cont_test_pred = gnb.predict(X2_test)\n",
    "print(accuracy_score(y2_train,cont_train_pred),accuracy_score(y2_test,cont_test_pred))"
   ]
  },
  {
   "cell_type": "code",
   "execution_count": 36,
   "id": "ae553f43-32dc-43af-bcf3-cfa634920caa",
   "metadata": {
    "tags": []
   },
   "outputs": [],
   "source": [
    "true_df=pd.read_csv(\"true.csv\")\n",
    "fake_df=pd.read_csv(\"fake.csv\")"
   ]
  },
  {
   "cell_type": "code",
   "execution_count": 37,
   "id": "4bf862ac-9568-411e-978f-da878aabcab8",
   "metadata": {},
   "outputs": [],
   "source": [
    "true_df.drop(columns =['subject', 'date'],inplace=True)\n",
    "fake_df.drop(columns =['subject', 'date'],inplace=True)\n",
    "true_df['news_type']='True'\n",
    "fake_df['news_type']='Fake'"
   ]
  },
  {
   "cell_type": "code",
   "execution_count": 38,
   "id": "a0b9249a-7e1a-4ea2-bffd-e4e33835e6c0",
   "metadata": {},
   "outputs": [
    {
     "data": {
      "text/html": [
       "<div>\n",
       "<style scoped>\n",
       "    .dataframe tbody tr th:only-of-type {\n",
       "        vertical-align: middle;\n",
       "    }\n",
       "\n",
       "    .dataframe tbody tr th {\n",
       "        vertical-align: top;\n",
       "    }\n",
       "\n",
       "    .dataframe thead th {\n",
       "        text-align: right;\n",
       "    }\n",
       "</style>\n",
       "<table border=\"1\" class=\"dataframe\">\n",
       "  <thead>\n",
       "    <tr style=\"text-align: right;\">\n",
       "      <th></th>\n",
       "      <th>title</th>\n",
       "      <th>text</th>\n",
       "      <th>news_type</th>\n",
       "    </tr>\n",
       "  </thead>\n",
       "  <tbody>\n",
       "    <tr>\n",
       "      <th>0</th>\n",
       "      <td>As U.S. budget fight looms, Republicans flip t...</td>\n",
       "      <td>WASHINGTON (Reuters) - The head of a conservat...</td>\n",
       "      <td>True</td>\n",
       "    </tr>\n",
       "    <tr>\n",
       "      <th>1</th>\n",
       "      <td>U.S. military to accept transgender recruits o...</td>\n",
       "      <td>WASHINGTON (Reuters) - Transgender people will...</td>\n",
       "      <td>True</td>\n",
       "    </tr>\n",
       "    <tr>\n",
       "      <th>2</th>\n",
       "      <td>Senior U.S. Republican senator: 'Let Mr. Muell...</td>\n",
       "      <td>WASHINGTON (Reuters) - The special counsel inv...</td>\n",
       "      <td>True</td>\n",
       "    </tr>\n",
       "    <tr>\n",
       "      <th>3</th>\n",
       "      <td>FBI Russia probe helped by Australian diplomat...</td>\n",
       "      <td>WASHINGTON (Reuters) - Trump campaign adviser ...</td>\n",
       "      <td>True</td>\n",
       "    </tr>\n",
       "    <tr>\n",
       "      <th>4</th>\n",
       "      <td>Trump wants Postal Service to charge 'much mor...</td>\n",
       "      <td>SEATTLE/WASHINGTON (Reuters) - President Donal...</td>\n",
       "      <td>True</td>\n",
       "    </tr>\n",
       "  </tbody>\n",
       "</table>\n",
       "</div>"
      ],
      "text/plain": [
       "                                               title  \\\n",
       "0  As U.S. budget fight looms, Republicans flip t...   \n",
       "1  U.S. military to accept transgender recruits o...   \n",
       "2  Senior U.S. Republican senator: 'Let Mr. Muell...   \n",
       "3  FBI Russia probe helped by Australian diplomat...   \n",
       "4  Trump wants Postal Service to charge 'much mor...   \n",
       "\n",
       "                                                text news_type  \n",
       "0  WASHINGTON (Reuters) - The head of a conservat...      True  \n",
       "1  WASHINGTON (Reuters) - Transgender people will...      True  \n",
       "2  WASHINGTON (Reuters) - The special counsel inv...      True  \n",
       "3  WASHINGTON (Reuters) - Trump campaign adviser ...      True  \n",
       "4  SEATTLE/WASHINGTON (Reuters) - President Donal...      True  "
      ]
     },
     "execution_count": 38,
     "metadata": {},
     "output_type": "execute_result"
    }
   ],
   "source": [
    "news_df=pd.concat([true_df, fake_df], ignore_index=True, axis=0)\n",
    "news_df[:5]"
   ]
  },
  {
   "cell_type": "code",
   "execution_count": 23,
   "id": "11220aa0-7b63-44b0-a187-28e5728dc698",
   "metadata": {},
   "outputs": [],
   "source": [
    "news_df[\"news\"] = news_df['title']+\" \"+news_df[\"text\"]\n",
    "news_df[\"news\"] = news_df[\"news\"].apply(str.lower)\n",
    "news_df.drop(columns =['title', 'text'],inplace=True)"
   ]
  },
  {
   "cell_type": "code",
   "execution_count": 25,
   "id": "3dff5ab7-6a3c-4481-a76f-ffab6437494a",
   "metadata": {},
   "outputs": [],
   "source": [
    "news_df[\"news\"] = news_df[\"news\"].str.replace('[^\\w\\s]','')\n",
    "news_df[\"news\"] = news_df[\"news\"].str.replace('\\d+', '')\n",
    "news_df[\"news_list\"]= news_df[\"news\"].str.split(\" \")\n"
   ]
  },
  {
   "cell_type": "code",
   "execution_count": 26,
   "id": "8224d41a-4a70-46ca-a5a6-20a4b68a7e06",
   "metadata": {},
   "outputs": [],
   "source": [
    "news_df=news_df[news_df[\"news_list\"].apply(len) >= 50]\n",
    "news_df=news_df.reset_index(drop=True)\n"
   ]
  },
  {
   "cell_type": "code",
   "execution_count": 27,
   "id": "bf38dc62-ada7-44fb-a777-d6dfdae81cf5",
   "metadata": {},
   "outputs": [],
   "source": [
    "eng_stopwords = stopwords.words('english') \n",
    "news_df[\"news_list\"] = news_df[\"news_list\"].apply(lambda words: [word for word in words if word not in eng_stopwords])\n"
   ]
  },
  {
   "cell_type": "code",
   "execution_count": 28,
   "id": "4b6f5291-5d6f-4862-9db1-c46501a9a525",
   "metadata": {},
   "outputs": [],
   "source": [
    "def listToString(s):\n",
    "    str1 = \" \" \n",
    "    return (str1.join(s))\n",
    "\n",
    "news_df[\"clean_news\"]  = news_df[\"news_list\"] .apply(listToString)"
   ]
  },
  {
   "cell_type": "code",
   "execution_count": 29,
   "id": "54d4a1d8-fd7d-484c-b096-4cbce2fd6532",
   "metadata": {},
   "outputs": [
    {
     "data": {
      "text/html": [
       "<div>\n",
       "<style scoped>\n",
       "    .dataframe tbody tr th:only-of-type {\n",
       "        vertical-align: middle;\n",
       "    }\n",
       "\n",
       "    .dataframe tbody tr th {\n",
       "        vertical-align: top;\n",
       "    }\n",
       "\n",
       "    .dataframe thead th {\n",
       "        text-align: right;\n",
       "    }\n",
       "</style>\n",
       "<table border=\"1\" class=\"dataframe\">\n",
       "  <thead>\n",
       "    <tr style=\"text-align: right;\">\n",
       "      <th></th>\n",
       "      <th>news_type</th>\n",
       "      <th>clean_news</th>\n",
       "    </tr>\n",
       "  </thead>\n",
       "  <tbody>\n",
       "    <tr>\n",
       "      <th>28618</th>\n",
       "      <td>Fake</td>\n",
       "      <td>north carolina gop makes state crappier place...</td>\n",
       "    </tr>\n",
       "    <tr>\n",
       "      <th>21869</th>\n",
       "      <td>Fake</td>\n",
       "      <td>trump lashes ceos suggests hell replace ones ...</td>\n",
       "    </tr>\n",
       "    <tr>\n",
       "      <th>21536</th>\n",
       "      <td>Fake</td>\n",
       "      <td>puerto ricos governor pleads help trump threa...</td>\n",
       "    </tr>\n",
       "    <tr>\n",
       "      <th>14577</th>\n",
       "      <td>True</td>\n",
       "      <td>zimbabwes army seizes power mugabe confined sa...</td>\n",
       "    </tr>\n",
       "    <tr>\n",
       "      <th>41850</th>\n",
       "      <td>Fake</td>\n",
       "      <td>boiler room ep   deeper game masters chaos str...</td>\n",
       "    </tr>\n",
       "    <tr>\n",
       "      <th>24631</th>\n",
       "      <td>Fake</td>\n",
       "      <td>trump supporter unleashes explosive racism hi...</td>\n",
       "    </tr>\n",
       "  </tbody>\n",
       "</table>\n",
       "</div>"
      ],
      "text/plain": [
       "      news_type                                         clean_news\n",
       "28618      Fake   north carolina gop makes state crappier place...\n",
       "21869      Fake   trump lashes ceos suggests hell replace ones ...\n",
       "21536      Fake   puerto ricos governor pleads help trump threa...\n",
       "14577      True  zimbabwes army seizes power mugabe confined sa...\n",
       "41850      Fake  boiler room ep   deeper game masters chaos str...\n",
       "24631      Fake   trump supporter unleashes explosive racism hi..."
      ]
     },
     "execution_count": 29,
     "metadata": {},
     "output_type": "execute_result"
    }
   ],
   "source": [
    "news_df.drop(columns=['news','news_list'], inplace=True)\n",
    "news_df.sample(6)"
   ]
  },
  {
   "cell_type": "code",
   "execution_count": 30,
   "id": "096f2531-6dc7-436f-a1e7-d9710fcc99a5",
   "metadata": {},
   "outputs": [
    {
     "data": {
      "text/html": [
       "<div>\n",
       "<style scoped>\n",
       "    .dataframe tbody tr th:only-of-type {\n",
       "        vertical-align: middle;\n",
       "    }\n",
       "\n",
       "    .dataframe tbody tr th {\n",
       "        vertical-align: top;\n",
       "    }\n",
       "\n",
       "    .dataframe thead th {\n",
       "        text-align: right;\n",
       "    }\n",
       "</style>\n",
       "<table border=\"1\" class=\"dataframe\">\n",
       "  <thead>\n",
       "    <tr style=\"text-align: right;\">\n",
       "      <th></th>\n",
       "      <th>news_type</th>\n",
       "    </tr>\n",
       "  </thead>\n",
       "  <tbody>\n",
       "    <tr>\n",
       "      <th>37825</th>\n",
       "      <td>Fake</td>\n",
       "    </tr>\n",
       "    <tr>\n",
       "      <th>15390</th>\n",
       "      <td>True</td>\n",
       "    </tr>\n",
       "    <tr>\n",
       "      <th>36745</th>\n",
       "      <td>Fake</td>\n",
       "    </tr>\n",
       "    <tr>\n",
       "      <th>8338</th>\n",
       "      <td>True</td>\n",
       "    </tr>\n",
       "    <tr>\n",
       "      <th>19659</th>\n",
       "      <td>True</td>\n",
       "    </tr>\n",
       "  </tbody>\n",
       "</table>\n",
       "</div>"
      ],
      "text/plain": [
       "      news_type\n",
       "37825      Fake\n",
       "15390      True\n",
       "36745      Fake\n",
       "8338       True\n",
       "19659      True"
      ]
     },
     "execution_count": 30,
     "metadata": {},
     "output_type": "execute_result"
    }
   ],
   "source": [
    "tfid = TfidfVectorizer()\n",
    "feat_vecs = tfid.fit_transform(news_df[\"clean_news\"])\n",
    "news_df.drop(columns=['clean_news'], inplace=True)\n",
    "news_df.sample(5)"
   ]
  },
  {
   "cell_type": "code",
   "execution_count": 31,
   "id": "708cdc74-446a-4546-8115-c4c0d724bc61",
   "metadata": {},
   "outputs": [
    {
     "data": {
      "text/html": [
       "<div>\n",
       "<style scoped>\n",
       "    .dataframe tbody tr th:only-of-type {\n",
       "        vertical-align: middle;\n",
       "    }\n",
       "\n",
       "    .dataframe tbody tr th {\n",
       "        vertical-align: top;\n",
       "    }\n",
       "\n",
       "    .dataframe thead th {\n",
       "        text-align: right;\n",
       "    }\n",
       "</style>\n",
       "<table border=\"1\" class=\"dataframe\">\n",
       "  <thead>\n",
       "    <tr style=\"text-align: right;\">\n",
       "      <th></th>\n",
       "      <th>news_type</th>\n",
       "    </tr>\n",
       "  </thead>\n",
       "  <tbody>\n",
       "    <tr>\n",
       "      <th>171</th>\n",
       "      <td>True</td>\n",
       "    </tr>\n",
       "    <tr>\n",
       "      <th>7011</th>\n",
       "      <td>True</td>\n",
       "    </tr>\n",
       "    <tr>\n",
       "      <th>11534</th>\n",
       "      <td>True</td>\n",
       "    </tr>\n",
       "    <tr>\n",
       "      <th>18333</th>\n",
       "      <td>True</td>\n",
       "    </tr>\n",
       "    <tr>\n",
       "      <th>42476</th>\n",
       "      <td>Fake</td>\n",
       "    </tr>\n",
       "  </tbody>\n",
       "</table>\n",
       "</div>"
      ],
      "text/plain": [
       "      news_type\n",
       "171        True\n",
       "7011       True\n",
       "11534      True\n",
       "18333      True\n",
       "42476      Fake"
      ]
     },
     "execution_count": 31,
     "metadata": {},
     "output_type": "execute_result"
    }
   ],
   "source": [
    "X3_train,X3_test, y3_train,y3_test=train_test_split(feat_vecs, news_df, test_size=0.3, random_state=42)\n",
    "y3_train.sample(5)"
   ]
  },
  {
   "cell_type": "code",
   "execution_count": 32,
   "id": "ad7b8e7f-4348-4bce-a428-70a790465451",
   "metadata": {},
   "outputs": [
    {
     "name": "stdout",
     "output_type": "stream",
     "text": [
      "0.9524313245843112 0.9429232549170845\n"
     ]
    }
   ],
   "source": [
    "mnb=MultinomialNB() \n",
    "mnb.fit(X3_train, y3_train)\n",
    "news_train_pred = mnb.predict(X3_train)\n",
    "news_test_pred = mnb.predict(X3_test)\n",
    "print(accuracy_score(y3_train,news_train_pred),accuracy_score(y3_test,news_test_pred))"
   ]
  },
  {
   "cell_type": "code",
   "execution_count": 33,
   "id": "4e4d83e6-ab24-40dd-9fbc-d97129dbdba3",
   "metadata": {},
   "outputs": [
    {
     "name": "stdout",
     "output_type": "stream",
     "text": [
      "[0.9365499  0.94876033 0.93785124 0.94347107 0.94413223 0.94578512\n",
      " 0.94082645 0.94214876 0.93818182 0.94545455] \n",
      " mean= 0.9423161471107153 sd= 0.003749236738357575\n"
     ]
    }
   ],
   "source": [
    "scores = cross_val_score(mnb,X3_train, y3_train, cv=10, scoring=\"accuracy\")\n",
    "\n",
    "print(scores,\"\\n\",\"mean=\",np.mean(scores),\"sd=\",np.std(scores))"
   ]
  },
  {
   "cell_type": "code",
   "execution_count": 34,
   "id": "a0ddf950-d383-4d91-8325-1550b057c728",
   "metadata": {},
   "outputs": [
    {
     "name": "stdout",
     "output_type": "stream",
     "text": [
      "{'alpha': 0.1} 0.9692902713959869\n"
     ]
    }
   ],
   "source": [
    "param_grid={'alpha':[.1,.2,.3,.4,.5,.6,.7,.8,.9,1]}\n",
    "clf = GridSearchCV(mnb,param_grid,scoring='accuracy')\n",
    "clf.fit(X3_train, y3_train)\n",
    "print(clf.best_params_,clf.score(X3_train, y3_train))"
   ]
  },
  {
   "cell_type": "code",
   "execution_count": null,
   "id": "be116761-5c10-4fc6-8282-1c521547e03e",
   "metadata": {},
   "outputs": [],
   "source": []
  }
 ],
 "metadata": {
  "kernelspec": {
   "display_name": "Python 3 (ipykernel)",
   "language": "python",
   "name": "python3"
  },
  "language_info": {
   "codemirror_mode": {
    "name": "ipython",
    "version": 3
   },
   "file_extension": ".py",
   "mimetype": "text/x-python",
   "name": "python",
   "nbconvert_exporter": "python",
   "pygments_lexer": "ipython3",
   "version": "3.8.13"
  }
 },
 "nbformat": 4,
 "nbformat_minor": 5
}
