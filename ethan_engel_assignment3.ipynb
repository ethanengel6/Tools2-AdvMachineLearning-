{
 "cells": [
  {
   "cell_type": "code",
   "execution_count": 59,
   "id": "cc9a4793-d5d7-4339-ad87-afd0a5873533",
   "metadata": {},
   "outputs": [],
   "source": [
    "import pandas as pd\n",
    "from sklearn.preprocessing import MinMaxScaler, StandardScaler\n",
    "from sklearn.model_selection import train_test_split, GridSearchCV, cross_val_score,validation_curve\n",
    "from sklearn.tree import DecisionTreeClassifier\n",
    "from sklearn.metrics import accuracy_score, zero_one_loss, recall_score,classification_report,confusion_matrix,precision_score,f1_score\n",
    "from sklearn.metrics import plot_roc_curve,plot_confusion_matrix, ConfusionMatrixDisplay\n",
    "from sklearn.ensemble import RandomForestClassifier\n",
    "import numpy as np\n",
    "import seaborn as sns\n",
    "import matplotlib.pyplot as plt"
   ]
  },
  {
   "cell_type": "code",
   "execution_count": 78,
   "id": "c377b69a-3778-420b-b94c-053136628d78",
   "metadata": {},
   "outputs": [
    {
     "data": {
      "text/html": [
       "<div>\n",
       "<style scoped>\n",
       "    .dataframe tbody tr th:only-of-type {\n",
       "        vertical-align: middle;\n",
       "    }\n",
       "\n",
       "    .dataframe tbody tr th {\n",
       "        vertical-align: top;\n",
       "    }\n",
       "\n",
       "    .dataframe thead th {\n",
       "        text-align: right;\n",
       "    }\n",
       "</style>\n",
       "<table border=\"1\" class=\"dataframe\">\n",
       "  <thead>\n",
       "    <tr style=\"text-align: right;\">\n",
       "      <th></th>\n",
       "      <th>Age</th>\n",
       "      <th>HomeOwner</th>\n",
       "      <th>Female</th>\n",
       "      <th>Married</th>\n",
       "      <th>HouseholdSize</th>\n",
       "      <th>Income</th>\n",
       "      <th>Education</th>\n",
       "      <th>Church</th>\n",
       "      <th>Undecided</th>\n",
       "    </tr>\n",
       "  </thead>\n",
       "  <tbody>\n",
       "    <tr>\n",
       "      <th>0</th>\n",
       "      <td>51</td>\n",
       "      <td>1</td>\n",
       "      <td>1</td>\n",
       "      <td>1</td>\n",
       "      <td>4</td>\n",
       "      <td>171.0</td>\n",
       "      <td>15</td>\n",
       "      <td>0</td>\n",
       "      <td>1</td>\n",
       "    </tr>\n",
       "    <tr>\n",
       "      <th>1</th>\n",
       "      <td>46</td>\n",
       "      <td>1</td>\n",
       "      <td>1</td>\n",
       "      <td>1</td>\n",
       "      <td>6</td>\n",
       "      <td>420.0</td>\n",
       "      <td>15</td>\n",
       "      <td>1</td>\n",
       "      <td>0</td>\n",
       "    </tr>\n",
       "    <tr>\n",
       "      <th>2</th>\n",
       "      <td>55</td>\n",
       "      <td>1</td>\n",
       "      <td>0</td>\n",
       "      <td>1</td>\n",
       "      <td>6</td>\n",
       "      <td>132.0</td>\n",
       "      <td>16</td>\n",
       "      <td>0</td>\n",
       "      <td>1</td>\n",
       "    </tr>\n",
       "    <tr>\n",
       "      <th>3</th>\n",
       "      <td>50</td>\n",
       "      <td>1</td>\n",
       "      <td>0</td>\n",
       "      <td>1</td>\n",
       "      <td>4</td>\n",
       "      <td>18.0</td>\n",
       "      <td>8</td>\n",
       "      <td>0</td>\n",
       "      <td>0</td>\n",
       "    </tr>\n",
       "    <tr>\n",
       "      <th>4</th>\n",
       "      <td>49</td>\n",
       "      <td>1</td>\n",
       "      <td>1</td>\n",
       "      <td>1</td>\n",
       "      <td>2</td>\n",
       "      <td>66.0</td>\n",
       "      <td>15</td>\n",
       "      <td>1</td>\n",
       "      <td>1</td>\n",
       "    </tr>\n",
       "  </tbody>\n",
       "</table>\n",
       "</div>"
      ],
      "text/plain": [
       "   Age  HomeOwner  Female  Married  HouseholdSize  Income  Education  Church  \\\n",
       "0   51          1       1        1              4   171.0         15       0   \n",
       "1   46          1       1        1              6   420.0         15       1   \n",
       "2   55          1       0        1              6   132.0         16       0   \n",
       "3   50          1       0        1              4    18.0          8       0   \n",
       "4   49          1       1        1              2    66.0         15       1   \n",
       "\n",
       "   Undecided  \n",
       "0          1  \n",
       "1          0  \n",
       "2          1  \n",
       "3          0  \n",
       "4          1  "
      ]
     },
     "execution_count": 78,
     "metadata": {},
     "output_type": "execute_result"
    }
   ],
   "source": [
    "vote_df=pd.read_csv('BlueOrRed.csv')  \n",
    "vote_df.head()\n"
   ]
  },
  {
   "cell_type": "code",
   "execution_count": 79,
   "id": "2beefc9b-1676-4291-8313-fb3a55758c17",
   "metadata": {},
   "outputs": [
    {
     "data": {
      "text/plain": [
       "Age              0\n",
       "HomeOwner        0\n",
       "Female           0\n",
       "Married          0\n",
       "HouseholdSize    0\n",
       "Income           0\n",
       "Education        0\n",
       "Church           0\n",
       "Undecided        0\n",
       "dtype: int64"
      ]
     },
     "execution_count": 79,
     "metadata": {},
     "output_type": "execute_result"
    }
   ],
   "source": [
    "pd.isna(vote_df).sum()"
   ]
  },
  {
   "cell_type": "code",
   "execution_count": 80,
   "id": "c60767e0-c041-4db0-947f-ffc551f433b8",
   "metadata": {},
   "outputs": [
    {
     "data": {
      "text/plain": [
       "Index(['Age', 'HomeOwner', 'Female', 'Married', 'HouseholdSize', 'Income',\n",
       "       'Education', 'Church', 'Undecided'],\n",
       "      dtype='object')"
      ]
     },
     "execution_count": 80,
     "metadata": {},
     "output_type": "execute_result"
    }
   ],
   "source": [
    "vote_df.columns"
   ]
  },
  {
   "cell_type": "code",
   "execution_count": 81,
   "id": "5658dc32-6893-43a7-8318-bf03e6c04719",
   "metadata": {},
   "outputs": [
    {
     "data": {
      "text/html": [
       "<div>\n",
       "<style scoped>\n",
       "    .dataframe tbody tr th:only-of-type {\n",
       "        vertical-align: middle;\n",
       "    }\n",
       "\n",
       "    .dataframe tbody tr th {\n",
       "        vertical-align: top;\n",
       "    }\n",
       "\n",
       "    .dataframe thead th {\n",
       "        text-align: right;\n",
       "    }\n",
       "</style>\n",
       "<table border=\"1\" class=\"dataframe\">\n",
       "  <thead>\n",
       "    <tr style=\"text-align: right;\">\n",
       "      <th></th>\n",
       "      <th>Age</th>\n",
       "      <th>HomeOwner</th>\n",
       "      <th>Female</th>\n",
       "      <th>Married</th>\n",
       "      <th>HouseholdSize</th>\n",
       "      <th>Income</th>\n",
       "      <th>Education</th>\n",
       "      <th>Church</th>\n",
       "      <th>Undecided</th>\n",
       "    </tr>\n",
       "  </thead>\n",
       "  <tbody>\n",
       "    <tr>\n",
       "      <th>0</th>\n",
       "      <td>0.523810</td>\n",
       "      <td>1</td>\n",
       "      <td>1</td>\n",
       "      <td>1</td>\n",
       "      <td>0.500000</td>\n",
       "      <td>0.306422</td>\n",
       "      <td>0.583333</td>\n",
       "      <td>0</td>\n",
       "      <td>1</td>\n",
       "    </tr>\n",
       "    <tr>\n",
       "      <th>1</th>\n",
       "      <td>0.444444</td>\n",
       "      <td>1</td>\n",
       "      <td>1</td>\n",
       "      <td>1</td>\n",
       "      <td>0.833333</td>\n",
       "      <td>0.763303</td>\n",
       "      <td>0.583333</td>\n",
       "      <td>1</td>\n",
       "      <td>0</td>\n",
       "    </tr>\n",
       "    <tr>\n",
       "      <th>2</th>\n",
       "      <td>0.587302</td>\n",
       "      <td>1</td>\n",
       "      <td>0</td>\n",
       "      <td>1</td>\n",
       "      <td>0.833333</td>\n",
       "      <td>0.234862</td>\n",
       "      <td>0.666667</td>\n",
       "      <td>0</td>\n",
       "      <td>1</td>\n",
       "    </tr>\n",
       "    <tr>\n",
       "      <th>3</th>\n",
       "      <td>0.507937</td>\n",
       "      <td>1</td>\n",
       "      <td>0</td>\n",
       "      <td>1</td>\n",
       "      <td>0.500000</td>\n",
       "      <td>0.025688</td>\n",
       "      <td>0.000000</td>\n",
       "      <td>0</td>\n",
       "      <td>0</td>\n",
       "    </tr>\n",
       "    <tr>\n",
       "      <th>4</th>\n",
       "      <td>0.492063</td>\n",
       "      <td>1</td>\n",
       "      <td>1</td>\n",
       "      <td>1</td>\n",
       "      <td>0.166667</td>\n",
       "      <td>0.113761</td>\n",
       "      <td>0.583333</td>\n",
       "      <td>1</td>\n",
       "      <td>1</td>\n",
       "    </tr>\n",
       "  </tbody>\n",
       "</table>\n",
       "</div>"
      ],
      "text/plain": [
       "        Age  HomeOwner  Female  Married  HouseholdSize    Income  Education  \\\n",
       "0  0.523810          1       1        1       0.500000  0.306422   0.583333   \n",
       "1  0.444444          1       1        1       0.833333  0.763303   0.583333   \n",
       "2  0.587302          1       0        1       0.833333  0.234862   0.666667   \n",
       "3  0.507937          1       0        1       0.500000  0.025688   0.000000   \n",
       "4  0.492063          1       1        1       0.166667  0.113761   0.583333   \n",
       "\n",
       "   Church  Undecided  \n",
       "0       0          1  \n",
       "1       1          0  \n",
       "2       0          1  \n",
       "3       0          0  \n",
       "4       1          1  "
      ]
     },
     "execution_count": 81,
     "metadata": {},
     "output_type": "execute_result"
    }
   ],
   "source": [
    "mms = MinMaxScaler()\n",
    "vote_df[['Age','HouseholdSize','Income','Education']]=mms.fit_transform(vote_df[['Age','HouseholdSize','Income','Education']])\n",
    "vote_df.head()"
   ]
  },
  {
   "cell_type": "code",
   "execution_count": 82,
   "id": "26a1274e-00ae-445b-8594-1c4ef1790c28",
   "metadata": {},
   "outputs": [
    {
     "name": "stdout",
     "output_type": "stream",
     "text": [
      "(7000, 8) (3000, 8) (7000,) (3000,)\n"
     ]
    }
   ],
   "source": [
    "target_vec =vote_df['Undecided']\n",
    "vote_df.drop(columns=['Undecided'],inplace =True)\n",
    "X_train, X_test, y_train, y_test = train_test_split(vote_df, target_vec, test_size=0.3, random_state=42)\n",
    "print(X_train.shape,X_test.shape,y_train.shape, y_test.shape)\n"
   ]
  },
  {
   "cell_type": "code",
   "execution_count": 83,
   "id": "28f8d349-9016-428d-bddd-cabe7d1b5e53",
   "metadata": {},
   "outputs": [
    {
     "data": {
      "text/plain": [
       "array([0, 0, 0, 0, 1, 0, 0, 0, 0, 1, 0, 1, 0, 1, 1, 0, 0, 0, 0, 0, 0, 0,\n",
       "       0, 1, 1, 1, 0, 1, 1, 0, 0, 0, 0, 1, 1, 1, 0, 1, 1, 0, 1, 0, 0, 0,\n",
       "       0, 0, 1, 1, 0, 1, 1, 0, 1, 0, 1, 1, 0, 0, 1, 0, 0, 0, 0, 1, 0, 0,\n",
       "       0, 0, 0, 1, 0, 0, 0, 0, 0, 1, 0, 1, 0, 0, 1, 0, 1, 0, 0, 0, 1, 0,\n",
       "       0, 0, 0, 1, 1, 1, 0, 1, 0, 0, 0, 1], dtype=int64)"
      ]
     },
     "execution_count": 83,
     "metadata": {},
     "output_type": "execute_result"
    }
   ],
   "source": [
    "DT= DecisionTreeClassifier()\n",
    "DT = DT.fit(X_train,y_train)\n",
    "y_train_pred = DT.predict(X_train)\n",
    "y_train_pred[:100]"
   ]
  },
  {
   "cell_type": "code",
   "execution_count": 84,
   "id": "0cfc1f05-afbb-49f2-9cbf-9256818886cc",
   "metadata": {},
   "outputs": [
    {
     "data": {
      "text/plain": [
       "array([0, 1, 1, 1, 1, 1, 1, 1, 1, 0, 0, 1, 0, 0, 0, 0, 1, 0, 1, 0, 1, 0,\n",
       "       0, 0, 1, 1, 1, 0, 1, 1, 1, 0, 1, 0, 0, 0, 0, 0, 0, 0, 0, 0, 0, 1,\n",
       "       0, 0, 0, 0, 1, 0, 1, 0, 1, 1, 1, 1, 1, 0, 0, 1, 0, 0, 1, 1, 1, 1,\n",
       "       0, 0, 1, 1, 0, 0, 0, 0, 0, 0, 0, 0, 1, 0, 1, 1, 0, 0, 1, 0, 1, 0,\n",
       "       1, 1, 0, 0, 0, 0, 0, 0, 0, 1, 1, 0], dtype=int64)"
      ]
     },
     "execution_count": 84,
     "metadata": {},
     "output_type": "execute_result"
    }
   ],
   "source": [
    "\n",
    "y_test_pred = DT.predict(X_test)\n",
    "y_test_pred[:100]"
   ]
  },
  {
   "cell_type": "code",
   "execution_count": 85,
   "id": "d69dfdd7-fe90-4ae2-9bf3-979abfdb1732",
   "metadata": {},
   "outputs": [
    {
     "data": {
      "text/plain": [
       "1.0"
      ]
     },
     "execution_count": 85,
     "metadata": {},
     "output_type": "execute_result"
    }
   ],
   "source": [
    "accuracy_score(y_train,y_train_pred) "
   ]
  },
  {
   "cell_type": "code",
   "execution_count": 86,
   "id": "f387aeef-a9a2-43c2-b48f-41f385e9313d",
   "metadata": {},
   "outputs": [
    {
     "data": {
      "text/plain": [
       "0.97"
      ]
     },
     "execution_count": 86,
     "metadata": {},
     "output_type": "execute_result"
    }
   ],
   "source": [
    "accuracy_score(y_test,y_test_pred) "
   ]
  },
  {
   "cell_type": "code",
   "execution_count": 87,
   "id": "0a454efd-e288-4903-b9b3-9bcf49c57209",
   "metadata": {},
   "outputs": [
    {
     "data": {
      "text/plain": [
       "1.0"
      ]
     },
     "execution_count": 87,
     "metadata": {},
     "output_type": "execute_result"
    }
   ],
   "source": [
    " DT.score(X_train, y_train)"
   ]
  },
  {
   "cell_type": "code",
   "execution_count": 88,
   "id": "9b7b00a0-2eca-46ba-86f7-0babe3e5fd36",
   "metadata": {},
   "outputs": [
    {
     "data": {
      "text/plain": [
       "0.97"
      ]
     },
     "execution_count": 88,
     "metadata": {},
     "output_type": "execute_result"
    }
   ],
   "source": [
    " DT.score(X_test, y_test)"
   ]
  },
  {
   "cell_type": "code",
   "execution_count": 89,
   "id": "d2c14d68-5893-40c8-a5a0-949c752dc2cd",
   "metadata": {},
   "outputs": [
    {
     "data": {
      "text/plain": [
       "0.0"
      ]
     },
     "execution_count": 89,
     "metadata": {},
     "output_type": "execute_result"
    }
   ],
   "source": [
    "zero_one_loss(y_train,y_train_pred)"
   ]
  },
  {
   "cell_type": "code",
   "execution_count": 90,
   "id": "3e20fd98-9800-4278-b228-345b5af906e2",
   "metadata": {},
   "outputs": [
    {
     "data": {
      "text/plain": [
       "0.030000000000000027"
      ]
     },
     "execution_count": 90,
     "metadata": {},
     "output_type": "execute_result"
    }
   ],
   "source": [
    "zero_one_loss(y_test,y_test_pred)"
   ]
  },
  {
   "cell_type": "code",
   "execution_count": 91,
   "id": "deea1e38-b433-428c-809a-62277770f042",
   "metadata": {},
   "outputs": [
    {
     "name": "stdout",
     "output_type": "stream",
     "text": [
      "              precision    recall  f1-score   support\n",
      "\n",
      "           0       1.00      1.00      1.00      4172\n",
      "           1       1.00      1.00      1.00      2828\n",
      "\n",
      "    accuracy                           1.00      7000\n",
      "   macro avg       1.00      1.00      1.00      7000\n",
      "weighted avg       1.00      1.00      1.00      7000\n",
      "\n"
     ]
    }
   ],
   "source": [
    "print(classification_report(y_train,y_train_pred))"
   ]
  },
  {
   "cell_type": "code",
   "execution_count": 92,
   "id": "b03d58b8-2e7c-4ee0-97c0-b75f9a93c3f6",
   "metadata": {},
   "outputs": [
    {
     "name": "stdout",
     "output_type": "stream",
     "text": [
      "              precision    recall  f1-score   support\n",
      "\n",
      "           0       0.98      0.97      0.98      1814\n",
      "           1       0.96      0.97      0.96      1186\n",
      "\n",
      "    accuracy                           0.97      3000\n",
      "   macro avg       0.97      0.97      0.97      3000\n",
      "weighted avg       0.97      0.97      0.97      3000\n",
      "\n"
     ]
    }
   ],
   "source": [
    "print(classification_report(y_test,y_test_pred))"
   ]
  },
  {
   "cell_type": "code",
   "execution_count": 93,
   "id": "348457f9-4f74-4ca5-9c5b-8f46ba060fde",
   "metadata": {},
   "outputs": [
    {
     "data": {
      "text/plain": [
       "array([[4172,    0],\n",
       "       [   0, 2828]], dtype=int64)"
      ]
     },
     "execution_count": 93,
     "metadata": {},
     "output_type": "execute_result"
    }
   ],
   "source": [
    "confusion_matrix(y_train,y_train_pred)"
   ]
  },
  {
   "cell_type": "code",
   "execution_count": 94,
   "id": "dbc0b4cd-f767-4a9d-bdf8-65af3ad2c588",
   "metadata": {},
   "outputs": [
    {
     "data": {
      "text/plain": [
       "array([[1765,   49],\n",
       "       [  41, 1145]], dtype=int64)"
      ]
     },
     "execution_count": 94,
     "metadata": {},
     "output_type": "execute_result"
    }
   ],
   "source": [
    "confusion_matrix(y_test,y_test_pred)"
   ]
  },
  {
   "cell_type": "code",
   "execution_count": 95,
   "id": "a6872b29-eb4e-40c5-8b59-8d5af3436a35",
   "metadata": {},
   "outputs": [
    {
     "data": {
      "text/plain": [
       "1.0"
      ]
     },
     "execution_count": 95,
     "metadata": {},
     "output_type": "execute_result"
    }
   ],
   "source": [
    "precision_score(y_train,y_train_pred)"
   ]
  },
  {
   "cell_type": "code",
   "execution_count": 96,
   "id": "af4073ce-a55f-4860-bca9-86156adeaccd",
   "metadata": {},
   "outputs": [
    {
     "data": {
      "text/plain": [
       "0.958961474036851"
      ]
     },
     "execution_count": 96,
     "metadata": {},
     "output_type": "execute_result"
    }
   ],
   "source": [
    "precision_score(y_test,y_test_pred)"
   ]
  },
  {
   "cell_type": "code",
   "execution_count": 97,
   "id": "c74e136c-2b6a-40cd-bc26-4ebb8d51e023",
   "metadata": {},
   "outputs": [
    {
     "data": {
      "text/plain": [
       "1.0"
      ]
     },
     "execution_count": 97,
     "metadata": {},
     "output_type": "execute_result"
    }
   ],
   "source": [
    "recall_score(y_train,y_train_pred)"
   ]
  },
  {
   "cell_type": "code",
   "execution_count": 98,
   "id": "b203e21b-ad53-4614-a197-f7536fb567f4",
   "metadata": {},
   "outputs": [
    {
     "data": {
      "text/plain": [
       "0.9654300168634065"
      ]
     },
     "execution_count": 98,
     "metadata": {},
     "output_type": "execute_result"
    }
   ],
   "source": [
    "recall_score(y_test,y_test_pred)"
   ]
  },
  {
   "cell_type": "code",
   "execution_count": 99,
   "id": "57f3144a-626b-4fca-a684-0dc601361ef8",
   "metadata": {},
   "outputs": [
    {
     "data": {
      "text/plain": [
       "1.0"
      ]
     },
     "execution_count": 99,
     "metadata": {},
     "output_type": "execute_result"
    }
   ],
   "source": [
    "f1_score(y_train,y_train_pred)"
   ]
  },
  {
   "cell_type": "code",
   "execution_count": 100,
   "id": "fedf1494-7cc6-4f69-a1d4-4155b14a4332",
   "metadata": {},
   "outputs": [
    {
     "data": {
      "text/plain": [
       "0.9621848739495799"
      ]
     },
     "execution_count": 100,
     "metadata": {},
     "output_type": "execute_result"
    }
   ],
   "source": [
    "f1_score(y_test,y_test_pred)"
   ]
  },
  {
   "cell_type": "code",
   "execution_count": 22,
   "id": "c90e6974-bb8d-46f9-aa07-0a522c481981",
   "metadata": {},
   "outputs": [
    {
     "name": "stderr",
     "output_type": "stream",
     "text": [
      "C:\\Users\\ethan\\AppData\\Roaming\\jupyterlab-desktop\\jlab_server\\lib\\site-packages\\sklearn\\utils\\deprecation.py:87: FutureWarning: Function plot_roc_curve is deprecated; Function :func:`plot_roc_curve` is deprecated in 1.0 and will be removed in 1.2. Use one of the class methods: :meth:`sklearn.metric.RocCurveDisplay.from_predictions` or :meth:`sklearn.metric.RocCurveDisplay.from_estimator`.\n",
      "  warnings.warn(msg, category=FutureWarning)\n"
     ]
    },
    {
     "data": {
      "text/plain": [
       "<sklearn.metrics._plot.roc_curve.RocCurveDisplay at 0x226f6a819a0>"
      ]
     },
     "execution_count": 22,
     "metadata": {},
     "output_type": "execute_result"
    },
    {
     "data": {
      "image/png": "[encoded data removed]",
      "text/plain": [
       "<Figure size 640x480 with 1 Axes>"
      ]
     },
     "metadata": {},
     "output_type": "display_data"
    }
   ],
   "source": [
    "plot_roc_curve(DT, X_train, y_train) "
   ]
  },
  {
   "cell_type": "code",
   "execution_count": 23,
   "id": "997734ff-d0f2-4d50-9a40-6b5167a4685e",
   "metadata": {},
   "outputs": [
    {
     "name": "stderr",
     "output_type": "stream",
     "text": [
      "C:\\Users\\ethan\\AppData\\Roaming\\jupyterlab-desktop\\jlab_server\\lib\\site-packages\\sklearn\\utils\\deprecation.py:87: FutureWarning: Function plot_roc_curve is deprecated; Function :func:`plot_roc_curve` is deprecated in 1.0 and will be removed in 1.2. Use one of the class methods: :meth:`sklearn.metric.RocCurveDisplay.from_predictions` or :meth:`sklearn.metric.RocCurveDisplay.from_estimator`.\n",
      "  warnings.warn(msg, category=FutureWarning)\n"
     ]
    },
    {
     "data": {
      "text/plain": [
       "<sklearn.metrics._plot.roc_curve.RocCurveDisplay at 0x226f2069df0>"
      ]
     },
     "execution_count": 23,
     "metadata": {},
     "output_type": "execute_result"
    },
    {
     "data": {
      "image/png": "[encoded data removed]",
      "text/plain": [
       "<Figure size 640x480 with 1 Axes>"
      ]
     },
     "metadata": {},
     "output_type": "display_data"
    }
   ],
   "source": [
    "plot_roc_curve(DT, X_test, y_test) "
   ]
  },
  {
   "cell_type": "code",
   "execution_count": 24,
   "id": "f88ebd92-144b-40af-8b99-16dd69089d86",
   "metadata": {},
   "outputs": [
    {
     "name": "stderr",
     "output_type": "stream",
     "text": [
      "C:\\Users\\ethan\\AppData\\Roaming\\jupyterlab-desktop\\jlab_server\\lib\\site-packages\\sklearn\\utils\\deprecation.py:87: FutureWarning: Function plot_confusion_matrix is deprecated; Function `plot_confusion_matrix` is deprecated in 1.0 and will be removed in 1.2. Use one of the class methods: ConfusionMatrixDisplay.from_predictions or ConfusionMatrixDisplay.from_estimator.\n",
      "  warnings.warn(msg, category=FutureWarning)\n"
     ]
    },
    {
     "data": {
      "text/plain": [
       "<sklearn.metrics._plot.confusion_matrix.ConfusionMatrixDisplay at 0x226faf81a00>"
      ]
     },
     "execution_count": 24,
     "metadata": {},
     "output_type": "execute_result"
    },
    {
     "data": {
      "image/png": "[encoded data removed]",
      "text/plain": [
       "<Figure size 640x480 with 2 Axes>"
      ]
     },
     "metadata": {},
     "output_type": "display_data"
    }
   ],
   "source": [
    "plot_confusion_matrix(DT, X_train, y_train) "
   ]
  },
  {
   "cell_type": "code",
   "execution_count": 25,
   "id": "caf60f9c-5f85-4d43-b901-44fe5e2cc2e6",
   "metadata": {},
   "outputs": [
    {
     "name": "stderr",
     "output_type": "stream",
     "text": [
      "C:\\Users\\ethan\\AppData\\Roaming\\jupyterlab-desktop\\jlab_server\\lib\\site-packages\\sklearn\\utils\\deprecation.py:87: FutureWarning: Function plot_confusion_matrix is deprecated; Function `plot_confusion_matrix` is deprecated in 1.0 and will be removed in 1.2. Use one of the class methods: ConfusionMatrixDisplay.from_predictions or ConfusionMatrixDisplay.from_estimator.\n",
      "  warnings.warn(msg, category=FutureWarning)\n"
     ]
    },
    {
     "data": {
      "text/plain": [
       "<sklearn.metrics._plot.confusion_matrix.ConfusionMatrixDisplay at 0x226faded370>"
      ]
     },
     "execution_count": 25,
     "metadata": {},
     "output_type": "execute_result"
    },
    {
     "data": {
      "image/png": "[encoded data removed]",
      "text/plain": [
       "<Figure size 640x480 with 2 Axes>"
      ]
     },
     "metadata": {},
     "output_type": "display_data"
    }
   ],
   "source": [
    "plot_confusion_matrix(DT, X_test, y_test) "
   ]
  },
  {
   "cell_type": "code",
   "execution_count": 26,
   "id": "566896a0-6089-4efb-9d01-4ba2ce7836ab",
   "metadata": {},
   "outputs": [
    {
     "data": {
      "text/plain": [
       "18"
      ]
     },
     "execution_count": 26,
     "metadata": {},
     "output_type": "execute_result"
    }
   ],
   "source": [
    "DT.tree_.max_depth "
   ]
  },
  {
   "cell_type": "code",
   "execution_count": 27,
   "id": "99ab9d6e-8cfe-4906-a637-a2736dc00226",
   "metadata": {},
   "outputs": [],
   "source": [
    "er_list=[]\n",
    "tree_depth=[]\n",
    "for d in range (1,DT.tree_.max_depth):\n",
    "    DT = DecisionTreeClassifier(max_depth=d)\n",
    "    DT = DT.fit(X_train,y_train)\n",
    "    er_list.append(1-DT.score(X_test,y_test))\n",
    "    tree_depth.append(d)\n"
   ]
  },
  {
   "cell_type": "code",
   "execution_count": 28,
   "id": "f339253d-105f-4518-bdde-23606897f177",
   "metadata": {},
   "outputs": [
    {
     "data": {
      "text/plain": [
       "<AxesSubplot:xlabel='DT_Depth', ylabel='Error_Rate'>"
      ]
     },
     "execution_count": 28,
     "metadata": {},
     "output_type": "execute_result"
    },
    {
     "data": {
      "image/png": "[encoded data removed]",
      "text/plain": [
       "<Figure size 640x480 with 1 Axes>"
      ]
     },
     "metadata": {},
     "output_type": "display_data"
    }
   ],
   "source": [
    "er_df = pd.DataFrame(list(zip(tree_depth, er_list)),\n",
    "               columns =['DT_Depth', 'Error_Rate'])\n",
    "sns.scatterplot(data=er_df, x=\"DT_Depth\", y=\"Error_Rate\")"
   ]
  },
  {
   "cell_type": "code",
   "execution_count": 29,
   "id": "47141be0-a99e-4756-ae42-4c7a3355b9b6",
   "metadata": {},
   "outputs": [
    {
     "data": {
      "text/plain": [
       "5"
      ]
     },
     "execution_count": 29,
     "metadata": {},
     "output_type": "execute_result"
    }
   ],
   "source": [
    "np.argmin(er_df['Error_Rate']) "
   ]
  },
  {
   "cell_type": "code",
   "execution_count": 30,
   "id": "cd65800d-6c48-4523-b6d2-ab00def15135",
   "metadata": {},
   "outputs": [
    {
     "data": {
      "text/plain": [
       "{'max_depth': 7, 'max_features': 0.8}"
      ]
     },
     "execution_count": 30,
     "metadata": {},
     "output_type": "execute_result"
    }
   ],
   "source": [
    "params={\"max_depth\": range(1,DT.tree_.max_depth),\"max_features\":[.2,.4,.6,.8]}\n",
    "DT_gs = GridSearchCV(DT, param_grid=params,scoring='accuracy',cv=8)\n",
    "DT_gs = DT_gs.fit(X_train,y_train)\n",
    "DT_gs.best_params_"
   ]
  },
  {
   "cell_type": "code",
   "execution_count": 31,
   "id": "7593d94e-6624-48c9-8297-0a7a87baae71",
   "metadata": {},
   "outputs": [],
   "source": [
    "cv_score_list=[]\n",
    "tree_depth2=[]\n",
    "for c in range (1,DT.tree_.max_depth):\n",
    "    DT = DecisionTreeClassifier(max_depth=c)\n",
    "    DT = DT.fit(X_train,y_train)\n",
    "    cv_scores=cross_val_score(estimator=DT,X=X_train,y=y_train,scoring=\"accuracy\",cv=8)\n",
    "    cv_score_list.append(1-np.average(cv_scores))\n",
    "    tree_depth2.append(c)\n"
   ]
  },
  {
   "cell_type": "code",
   "execution_count": 32,
   "id": "62a7ed41-7ce4-49d1-b45d-984b7c676523",
   "metadata": {},
   "outputs": [
    {
     "data": {
      "text/plain": [
       "<AxesSubplot:xlabel='Max_Depth', ylabel='Error_Rate'>"
      ]
     },
     "execution_count": 32,
     "metadata": {},
     "output_type": "execute_result"
    },
    {
     "data": {
      "image/png": "[encoded data removed]",
      "text/plain": [
       "<Figure size 640x480 with 1 Axes>"
      ]
     },
     "metadata": {},
     "output_type": "display_data"
    }
   ],
   "source": [
    "md_df = pd.DataFrame(list(zip(tree_depth2, cv_score_list)),\n",
    "               columns =['Max_Depth', 'Error_Rate'])\n",
    "sns.scatterplot(data=md_df, x=\"Max_Depth\", y=\"Error_Rate\")"
   ]
  },
  {
   "cell_type": "code",
   "execution_count": 33,
   "id": "7c7b9f16-145c-4844-bd91-deccbcfbdcdb",
   "metadata": {},
   "outputs": [
    {
     "data": {
      "text/plain": [
       "5"
      ]
     },
     "execution_count": 33,
     "metadata": {},
     "output_type": "execute_result"
    }
   ],
   "source": [
    "np.argmin(md_df['Error_Rate']) "
   ]
  },
  {
   "cell_type": "code",
   "execution_count": 34,
   "id": "0b9388d3-47d3-435b-bf80-8a3230768510",
   "metadata": {},
   "outputs": [],
   "source": [
    "parameter_range = np.arange(1, 15, 1)\n",
    "train_score, test_score = validation_curve(DT, X_train, y_train, param_name=\"max_depth\",param_range=parameter_range,cv = 8, scoring = \"accuracy\")\n",
    "mean_train_score = np.mean(train_score, axis = 1)\n",
    "mean_test_score = np.mean(test_score, axis = 1)\n"
   ]
  },
  {
   "cell_type": "code",
   "execution_count": 35,
   "id": "24c13b57-8015-436f-b5c1-b91e39a55cfc",
   "metadata": {},
   "outputs": [
    {
     "data": {
      "image/png": "[encoded data removed]",
      "text/plain": [
       "<Figure size 640x480 with 1 Axes>"
      ]
     },
     "metadata": {},
     "output_type": "display_data"
    }
   ],
   "source": [
    "plt.plot(parameter_range, 1-mean_train_score,\n",
    "     label = \"Training Score\", color = 'b')\n",
    "plt.plot(parameter_range, 1-mean_test_score,\n",
    "   label = \"Cross Validation Score\", color = 'g')\n",
    "plt.xlabel(\"Maximum Depth\")\n",
    "plt.ylabel(\"Error Rate\")\n",
    "plt.tight_layout()\n",
    "plt.legend(loc = 'best')\n",
    "plt.show()"
   ]
  },
  {
   "cell_type": "code",
   "execution_count": 36,
   "id": "f268f2ac-848e-41fc-8e07-bf18177742d9",
   "metadata": {},
   "outputs": [
    {
     "data": {
      "text/html": [
       "<div>\n",
       "<style scoped>\n",
       "    .dataframe tbody tr th:only-of-type {\n",
       "        vertical-align: middle;\n",
       "    }\n",
       "\n",
       "    .dataframe tbody tr th {\n",
       "        vertical-align: top;\n",
       "    }\n",
       "\n",
       "    .dataframe thead th {\n",
       "        text-align: right;\n",
       "    }\n",
       "</style>\n",
       "<table border=\"1\" class=\"dataframe\">\n",
       "  <thead>\n",
       "    <tr style=\"text-align: right;\">\n",
       "      <th></th>\n",
       "      <th>Case_No</th>\n",
       "      <th>A1</th>\n",
       "      <th>A2</th>\n",
       "      <th>A3</th>\n",
       "      <th>A4</th>\n",
       "      <th>A5</th>\n",
       "      <th>A6</th>\n",
       "      <th>A7</th>\n",
       "      <th>A8</th>\n",
       "      <th>A9</th>\n",
       "      <th>A10</th>\n",
       "      <th>Age_Mons</th>\n",
       "      <th>Qchat-10-Score</th>\n",
       "      <th>Sex</th>\n",
       "      <th>Ethnicity</th>\n",
       "      <th>Jaundice</th>\n",
       "      <th>Family_mem_with_ASD</th>\n",
       "      <th>Who completed the test</th>\n",
       "      <th>Class/ASD Traits</th>\n",
       "    </tr>\n",
       "  </thead>\n",
       "  <tbody>\n",
       "    <tr>\n",
       "      <th>0</th>\n",
       "      <td>1</td>\n",
       "      <td>0</td>\n",
       "      <td>0</td>\n",
       "      <td>0</td>\n",
       "      <td>0</td>\n",
       "      <td>0</td>\n",
       "      <td>0</td>\n",
       "      <td>1</td>\n",
       "      <td>1</td>\n",
       "      <td>0</td>\n",
       "      <td>1</td>\n",
       "      <td>28</td>\n",
       "      <td>3</td>\n",
       "      <td>f</td>\n",
       "      <td>middle eastern</td>\n",
       "      <td>yes</td>\n",
       "      <td>no</td>\n",
       "      <td>family member</td>\n",
       "      <td>No</td>\n",
       "    </tr>\n",
       "    <tr>\n",
       "      <th>1</th>\n",
       "      <td>2</td>\n",
       "      <td>1</td>\n",
       "      <td>1</td>\n",
       "      <td>0</td>\n",
       "      <td>0</td>\n",
       "      <td>0</td>\n",
       "      <td>1</td>\n",
       "      <td>1</td>\n",
       "      <td>0</td>\n",
       "      <td>0</td>\n",
       "      <td>0</td>\n",
       "      <td>36</td>\n",
       "      <td>4</td>\n",
       "      <td>m</td>\n",
       "      <td>White European</td>\n",
       "      <td>yes</td>\n",
       "      <td>no</td>\n",
       "      <td>family member</td>\n",
       "      <td>Yes</td>\n",
       "    </tr>\n",
       "    <tr>\n",
       "      <th>2</th>\n",
       "      <td>3</td>\n",
       "      <td>1</td>\n",
       "      <td>0</td>\n",
       "      <td>0</td>\n",
       "      <td>0</td>\n",
       "      <td>0</td>\n",
       "      <td>0</td>\n",
       "      <td>1</td>\n",
       "      <td>1</td>\n",
       "      <td>0</td>\n",
       "      <td>1</td>\n",
       "      <td>36</td>\n",
       "      <td>4</td>\n",
       "      <td>m</td>\n",
       "      <td>middle eastern</td>\n",
       "      <td>yes</td>\n",
       "      <td>no</td>\n",
       "      <td>family member</td>\n",
       "      <td>Yes</td>\n",
       "    </tr>\n",
       "    <tr>\n",
       "      <th>3</th>\n",
       "      <td>4</td>\n",
       "      <td>1</td>\n",
       "      <td>1</td>\n",
       "      <td>1</td>\n",
       "      <td>1</td>\n",
       "      <td>1</td>\n",
       "      <td>1</td>\n",
       "      <td>1</td>\n",
       "      <td>1</td>\n",
       "      <td>1</td>\n",
       "      <td>1</td>\n",
       "      <td>24</td>\n",
       "      <td>10</td>\n",
       "      <td>m</td>\n",
       "      <td>Hispanic</td>\n",
       "      <td>no</td>\n",
       "      <td>no</td>\n",
       "      <td>family member</td>\n",
       "      <td>Yes</td>\n",
       "    </tr>\n",
       "    <tr>\n",
       "      <th>4</th>\n",
       "      <td>5</td>\n",
       "      <td>1</td>\n",
       "      <td>1</td>\n",
       "      <td>0</td>\n",
       "      <td>1</td>\n",
       "      <td>1</td>\n",
       "      <td>1</td>\n",
       "      <td>1</td>\n",
       "      <td>1</td>\n",
       "      <td>1</td>\n",
       "      <td>1</td>\n",
       "      <td>20</td>\n",
       "      <td>9</td>\n",
       "      <td>f</td>\n",
       "      <td>White European</td>\n",
       "      <td>no</td>\n",
       "      <td>yes</td>\n",
       "      <td>family member</td>\n",
       "      <td>Yes</td>\n",
       "    </tr>\n",
       "  </tbody>\n",
       "</table>\n",
       "</div>"
      ],
      "text/plain": [
       "   Case_No  A1  A2  A3  A4  A5  A6  A7  A8  A9  A10  Age_Mons  Qchat-10-Score  \\\n",
       "0        1   0   0   0   0   0   0   1   1   0    1        28               3   \n",
       "1        2   1   1   0   0   0   1   1   0   0    0        36               4   \n",
       "2        3   1   0   0   0   0   0   1   1   0    1        36               4   \n",
       "3        4   1   1   1   1   1   1   1   1   1    1        24              10   \n",
       "4        5   1   1   0   1   1   1   1   1   1    1        20               9   \n",
       "\n",
       "  Sex       Ethnicity Jaundice Family_mem_with_ASD Who completed the test  \\\n",
       "0   f  middle eastern      yes                  no          family member   \n",
       "1   m  White European      yes                  no          family member   \n",
       "2   m  middle eastern      yes                  no          family member   \n",
       "3   m        Hispanic       no                  no          family member   \n",
       "4   f  White European       no                 yes          family member   \n",
       "\n",
       "  Class/ASD Traits   \n",
       "0                No  \n",
       "1               Yes  \n",
       "2               Yes  \n",
       "3               Yes  \n",
       "4               Yes  "
      ]
     },
     "execution_count": 36,
     "metadata": {},
     "output_type": "execute_result"
    }
   ],
   "source": [
    "autism_df=pd.read_csv('toddler_autism.csv')  \n",
    "autism_df.head()"
   ]
  },
  {
   "cell_type": "code",
   "execution_count": 37,
   "id": "1dafa789-1d63-4009-a166-e0407d5bde4b",
   "metadata": {},
   "outputs": [],
   "source": [
    "autism_df.drop(columns=['Case_No','Qchat-10-Score', 'Who completed the test','A1','A2','A3','A4','A5','A6','A7','A8','A9','A10'], inplace=True)"
   ]
  },
  {
   "cell_type": "code",
   "execution_count": 38,
   "id": "0d0b423a-4929-43db-9271-50d340f99e2b",
   "metadata": {},
   "outputs": [
    {
     "data": {
      "text/plain": [
       "White European    334\n",
       "asian             299\n",
       "middle eastern    188\n",
       "south asian        60\n",
       "black              53\n",
       "Hispanic           40\n",
       "Others             35\n",
       "Latino             26\n",
       "mixed               8\n",
       "Pacifica            8\n",
       "Native Indian       3\n",
       "Name: Ethnicity, dtype: int64"
      ]
     },
     "execution_count": 38,
     "metadata": {},
     "output_type": "execute_result"
    }
   ],
   "source": [
    "autism_df=pd.get_dummies(autism_df, columns=['Sex', 'Jaundice','Class/ASD Traits ','Family_mem_with_ASD'],drop_first=True)\n",
    "autism_df['Ethnicity'].value_counts()\n"
   ]
  },
  {
   "cell_type": "code",
   "execution_count": 39,
   "id": "793fd5b4-4e31-4f8d-a608-b8c5fdf4745b",
   "metadata": {},
   "outputs": [
    {
     "data": {
      "text/plain": [
       "Age_Mons                   0\n",
       "Sex_m                      0\n",
       "Jaundice_yes               0\n",
       "Class/ASD Traits _Yes      0\n",
       "Family_mem_with_ASD_yes    0\n",
       "dtype: int64"
      ]
     },
     "execution_count": 39,
     "metadata": {},
     "output_type": "execute_result"
    }
   ],
   "source": [
    "autism_df.drop(columns=['Ethnicity'],inplace=True)\n",
    "pd.isna(autism_df).sum()\n",
    "\n"
   ]
  },
  {
   "cell_type": "code",
   "execution_count": 40,
   "id": "49d56846-0c2b-442b-af47-b46dce7240b7",
   "metadata": {},
   "outputs": [
    {
     "data": {
      "text/plain": [
       "<AxesSubplot:xlabel='Age_Mons'>"
      ]
     },
     "execution_count": 40,
     "metadata": {},
     "output_type": "execute_result"
    },
    {
     "data": {
      "image/png": "[encoded data removed]",
      "text/plain": [
       "<Figure size 640x480 with 1 Axes>"
      ]
     },
     "metadata": {},
     "output_type": "display_data"
    }
   ],
   "source": [
    "sns.boxplot(x=autism_df[\"Age_Mons\"])"
   ]
  },
  {
   "cell_type": "code",
   "execution_count": 41,
   "id": "ebb9511e-86e0-46a6-b0a3-e2962f224aac",
   "metadata": {},
   "outputs": [],
   "source": [
    "autism_df['Age_Mons']=mms.fit_transform(autism_df[['Age_Mons']])\n",
    "\n"
   ]
  },
  {
   "cell_type": "code",
   "execution_count": 42,
   "id": "e85a6f3c-cd11-4a8e-9a22-d53b8e6ffbb3",
   "metadata": {},
   "outputs": [
    {
     "data": {
      "text/html": [
       "<div>\n",
       "<style scoped>\n",
       "    .dataframe tbody tr th:only-of-type {\n",
       "        vertical-align: middle;\n",
       "    }\n",
       "\n",
       "    .dataframe tbody tr th {\n",
       "        vertical-align: top;\n",
       "    }\n",
       "\n",
       "    .dataframe thead th {\n",
       "        text-align: right;\n",
       "    }\n",
       "</style>\n",
       "<table border=\"1\" class=\"dataframe\">\n",
       "  <thead>\n",
       "    <tr style=\"text-align: right;\">\n",
       "      <th></th>\n",
       "      <th>Age_Mons</th>\n",
       "      <th>Sex_m</th>\n",
       "      <th>Jaundice_yes</th>\n",
       "      <th>Class/ASD Traits _Yes</th>\n",
       "      <th>Family_mem_with_ASD_yes</th>\n",
       "    </tr>\n",
       "  </thead>\n",
       "  <tbody>\n",
       "    <tr>\n",
       "      <th>0</th>\n",
       "      <td>0.666667</td>\n",
       "      <td>0</td>\n",
       "      <td>1</td>\n",
       "      <td>0</td>\n",
       "      <td>0</td>\n",
       "    </tr>\n",
       "    <tr>\n",
       "      <th>1</th>\n",
       "      <td>1.000000</td>\n",
       "      <td>1</td>\n",
       "      <td>1</td>\n",
       "      <td>1</td>\n",
       "      <td>0</td>\n",
       "    </tr>\n",
       "    <tr>\n",
       "      <th>2</th>\n",
       "      <td>1.000000</td>\n",
       "      <td>1</td>\n",
       "      <td>1</td>\n",
       "      <td>1</td>\n",
       "      <td>0</td>\n",
       "    </tr>\n",
       "    <tr>\n",
       "      <th>3</th>\n",
       "      <td>0.500000</td>\n",
       "      <td>1</td>\n",
       "      <td>0</td>\n",
       "      <td>1</td>\n",
       "      <td>0</td>\n",
       "    </tr>\n",
       "    <tr>\n",
       "      <th>4</th>\n",
       "      <td>0.333333</td>\n",
       "      <td>0</td>\n",
       "      <td>0</td>\n",
       "      <td>1</td>\n",
       "      <td>1</td>\n",
       "    </tr>\n",
       "  </tbody>\n",
       "</table>\n",
       "</div>"
      ],
      "text/plain": [
       "   Age_Mons  Sex_m  Jaundice_yes  Class/ASD Traits _Yes  \\\n",
       "0  0.666667      0             1                      0   \n",
       "1  1.000000      1             1                      1   \n",
       "2  1.000000      1             1                      1   \n",
       "3  0.500000      1             0                      1   \n",
       "4  0.333333      0             0                      1   \n",
       "\n",
       "   Family_mem_with_ASD_yes  \n",
       "0                        0  \n",
       "1                        0  \n",
       "2                        0  \n",
       "3                        0  \n",
       "4                        1  "
      ]
     },
     "execution_count": 42,
     "metadata": {},
     "output_type": "execute_result"
    }
   ],
   "source": [
    "autism_df.head()"
   ]
  },
  {
   "cell_type": "code",
   "execution_count": 43,
   "id": "a871a80a-40d8-4326-b5a6-459f1d27e935",
   "metadata": {},
   "outputs": [],
   "source": [
    "asd_vec =autism_df['Class/ASD Traits _Yes']\n",
    "autism_df.drop(columns=['Class/ASD Traits _Yes'],inplace =True)\n",
    "X2_train, X2_test, y2_train, y2_test = train_test_split(autism_df, asd_vec, test_size=0.3, random_state=42)"
   ]
  },
  {
   "cell_type": "code",
   "execution_count": 44,
   "id": "2565f686-e8a2-467e-bba8-d0d510d53115",
   "metadata": {},
   "outputs": [
    {
     "data": {
      "text/plain": [
       "0.7544097693351425"
      ]
     },
     "execution_count": 44,
     "metadata": {},
     "output_type": "execute_result"
    }
   ],
   "source": [
    "\n",
    "DT2 = DT.fit(X2_train,y2_train)\n",
    "y2_train_pred = DT2.predict(X2_train)\n",
    "accuracy_score(y2_train,y2_train_pred) "
   ]
  },
  {
   "cell_type": "code",
   "execution_count": 45,
   "id": "7ebbff22-a3c4-468a-b735-2e079fefad85",
   "metadata": {},
   "outputs": [
    {
     "data": {
      "text/plain": [
       "0.6813880126182965"
      ]
     },
     "execution_count": 45,
     "metadata": {},
     "output_type": "execute_result"
    }
   ],
   "source": [
    "y2_test_pred = DT2.predict(X2_test)\n",
    "accuracy_score(y2_test,y2_test_pred) "
   ]
  },
  {
   "cell_type": "code",
   "execution_count": 46,
   "id": "a7512acb-47bb-4dd7-a5db-adf502689238",
   "metadata": {},
   "outputs": [
    {
     "data": {
      "text/plain": [
       "0.7544097693351425"
      ]
     },
     "execution_count": 46,
     "metadata": {},
     "output_type": "execute_result"
    }
   ],
   "source": [
    "rf= RandomForestClassifier()\n",
    "rf = rf.fit(X2_train,y2_train)\n",
    "y3_train_pred = rf.predict(X2_train)\n",
    "accuracy_score(y2_train,y3_train_pred) "
   ]
  },
  {
   "cell_type": "code",
   "execution_count": 47,
   "id": "e23f7a28-9a00-459d-bac7-9abd7de41ea1",
   "metadata": {},
   "outputs": [
    {
     "data": {
      "text/plain": [
       "0.7129337539432177"
      ]
     },
     "execution_count": 47,
     "metadata": {},
     "output_type": "execute_result"
    }
   ],
   "source": [
    "y4_test_pred = rf.predict(X2_test)\n",
    "accuracy_score(y2_test,y4_test_pred) "
   ]
  },
  {
   "cell_type": "code",
   "execution_count": 48,
   "id": "4e6d2771-b82d-49b8-9567-a6edc1ecaddb",
   "metadata": {},
   "outputs": [
    {
     "data": {
      "text/plain": [
       "{'max_depth': 5, 'max_features': 0.8}"
      ]
     },
     "execution_count": 48,
     "metadata": {},
     "output_type": "execute_result"
    }
   ],
   "source": [
    "params2={\"max_depth\": range(1,DT2.tree_.max_depth),\"max_features\":[.2,.4,.6,.8]}\n",
    "DT2_gs = GridSearchCV(DT2, param_grid=params,scoring='accuracy',cv=8)\n",
    "DT2_gs = DT2_gs.fit(X2_train,y2_train)\n",
    "DT2_gs.best_params_"
   ]
  },
  {
   "cell_type": "code",
   "execution_count": 49,
   "id": "cf7265f3-8409-4191-9393-9ee1ea0df14f",
   "metadata": {},
   "outputs": [
    {
     "data": {
      "text/plain": [
       "0.7544097693351425"
      ]
     },
     "execution_count": 49,
     "metadata": {},
     "output_type": "execute_result"
    }
   ],
   "source": [
    "DT3=DecisionTreeClassifier(max_depth= 2,max_features=0.6)\n",
    "DT3 = DT3.fit(X2_train,y2_train)\n",
    "y4_train_pred = DT2.predict(X2_train)\n",
    "accuracy_score(y2_train,y4_train_pred) "
   ]
  },
  {
   "cell_type": "code",
   "execution_count": 50,
   "id": "0043edfc-8d27-4d34-8ebd-5a2fe536bd7e",
   "metadata": {},
   "outputs": [
    {
     "data": {
      "text/plain": [
       "0.6908517350157729"
      ]
     },
     "execution_count": 50,
     "metadata": {},
     "output_type": "execute_result"
    }
   ],
   "source": [
    "y4_test_pred = DT3.predict(X2_test)\n",
    "accuracy_score(y2_test,y4_test_pred) "
   ]
  },
  {
   "cell_type": "code",
   "execution_count": 56,
   "id": "6981fe0a-cb07-4859-9ae3-6a238832ab3b",
   "metadata": {},
   "outputs": [
    {
     "data": {
      "text/plain": [
       "{'n_estimators': 118}"
      ]
     },
     "execution_count": 56,
     "metadata": {},
     "output_type": "execute_result"
    }
   ],
   "source": [
    "n_estimators = [int(x) for x in np.linspace(start = 10, stop = 150, num = 10)]\n",
    "rf_grid = {'n_estimators': n_estimators}\n",
    "rf_gs = GridSearchCV(rf, param_grid=rf_grid,scoring='accuracy',cv=8)\n",
    "rf_gs = rf_gs.fit(X2_train,y2_train)\n",
    "rf_gs.best_params_"
   ]
  },
  {
   "cell_type": "code",
   "execution_count": 57,
   "id": "fba25147-0bd0-4f6d-a1c5-cba9d233e5d6",
   "metadata": {},
   "outputs": [
    {
     "data": {
      "text/plain": [
       "0.751696065128901"
      ]
     },
     "execution_count": 57,
     "metadata": {},
     "output_type": "execute_result"
    }
   ],
   "source": [
    "rf2=RandomForestClassifier(max_depth= 8,max_features=0.6,n_estimators= 118)\n",
    "rf2 = rf2.fit(X2_train,y2_train)\n",
    "y5_train_pred = rf2.predict(X2_train)\n",
    "accuracy_score(y2_train,y5_train_pred) "
   ]
  },
  {
   "cell_type": "code",
   "execution_count": 58,
   "id": "67c57f0f-e0cd-4b37-bab1-6d3cdbbe5081",
   "metadata": {},
   "outputs": [
    {
     "data": {
      "text/plain": [
       "0.7160883280757098"
      ]
     },
     "execution_count": 58,
     "metadata": {},
     "output_type": "execute_result"
    }
   ],
   "source": [
    "y5_test_pred = rf2.predict(X2_test)\n",
    "accuracy_score(y2_test,y5_test_pred) "
   ]
  },
  {
   "cell_type": "code",
   "execution_count": null,
   "id": "de4dcff6-41b9-443c-b509-d7642b678433",
   "metadata": {},
   "outputs": [],
   "source": []
  }
 ],
 "metadata": {
  "kernelspec": {
   "display_name": "Python 3 (ipykernel)",
   "language": "python",
   "name": "python3"
  },
  "language_info": {
   "codemirror_mode": {
    "name": "ipython",
    "version": 3
   },
   "file_extension": ".py",
   "mimetype": "text/x-python",
   "name": "python",
   "nbconvert_exporter": "python",
   "pygments_lexer": "ipython3",
   "version": "3.8.13"
  }
 },
 "nbformat": 4,
 "nbformat_minor": 5
}
