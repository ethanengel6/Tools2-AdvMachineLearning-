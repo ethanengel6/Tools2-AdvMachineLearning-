{
 "cells": [
  {
   "cell_type": "markdown",
   "id": "535570cd-ceba-44bc-be25-4dd1d340672b",
   "metadata": {},
   "source": [
    "a) Write an IF-THEN rule derived from this decision tree, that can be used to classify \n",
    "instances in the data suppose your desire is to predict “yes” for the output variable. "
   ]
  },
  {
   "cell_type": "markdown",
   "id": "955405bd-8e6e-47e0-9531-3b1a48eee1c4",
   "metadata": {},
   "source": [
    "IF refund=\"no\" AND income_above_80k=\"yes\" AND (marital_status=\"single\" OR marital_status=\"divorced\") THEN cheat=\"yes\""
   ]
  },
  {
   "cell_type": "markdown",
   "id": "a93a5c9b-a492-4709-b669-b528c5439087",
   "metadata": {},
   "source": [
    "b) In code, create a function with an if-else statement to implement the rule you wrote above \n",
    "in question 1a. You can name the function predict. The function takes the input data and \n",
    "returns a vector of predicted output values. You can decide if you want your function’s \n",
    "input data argument to be a numpy array or a data frame, ,then structure your function \n",
    "body to process the input data accordingly. Provide some brief document of your \n",
    "function. You can loop through each instance in the input data and assess whether the \n",
    "instance satisfies the rule for predicting “yes” or not. If the instance satisfies the rule for \n",
    "predicting “yes”, then predict 1, otherwise, predict 0. "
   ]
  },
  {
   "cell_type": "code",
   "execution_count": 1,
   "id": "32322f80-a821-4815-bc81-48967abb4e8b",
   "metadata": {},
   "outputs": [],
   "source": [
    "import numpy as np\n",
    "import pandas as pd\n",
    "import math"
   ]
  },
  {
   "cell_type": "code",
   "execution_count": 2,
   "id": "282a7550-1939-4a4e-af44-4f3a7e6e30b9",
   "metadata": {},
   "outputs": [],
   "source": [
    "\n",
    "\n",
    "def predict(data): \n",
    "    counter=0\n",
    "    pred_array = np.zeros(shape=(len(data),1))\n",
    "    for i in data:\n",
    "        if (i[0]==\"no\" and i[2]==\"yes\") and i[1] != \"married\":\n",
    "            pred_array[counter]=1\n",
    "        else:\n",
    "            pred_array[counter]=0\n",
    "        counter+=1\n",
    "    return(pred_array)\n",
    "\n",
    "    \n"
   ]
  },
  {
   "cell_type": "markdown",
   "id": "d5620618-dc33-42f0-9c33-63c0de70d651",
   "metadata": {},
   "source": [
    "c)Create another function that implements the rule for predicting “yes” for the output, but this time, you will not use if-else statement or a loop. Rather use numpy arrays, matrices or vector to vectorize your code for faster and more efficient implementation. If the instance satisfies the rule for predicting “yes”, then predict 1, otherwise, predict 0. You can use logical operators for such implementation to compare values of test instances to values of attributes in the rule. This function still takes the input data and returns a vector of predicted values. You can call this function vectorized_predict. "
   ]
  },
  {
   "cell_type": "code",
   "execution_count": 3,
   "id": "813857b4-6ce9-4b18-ae69-9dfdf1c0d635",
   "metadata": {},
   "outputs": [],
   "source": [
    "\n",
    "\n",
    "def vectorized_predict (data):\n",
    "    data.loc[((data['refund'] == 'no')&(data['income_above_80k']=='yes')\n",
    "               & (data['marital_status']!='married')),'predict']=1\n",
    "    predict_vector = data['predict'].to_numpy()\n",
    "    return(predict_vector)\n",
    "    \n"
   ]
  },
  {
   "cell_type": "markdown",
   "id": "578eee52-e335-4099-a40f-9e870c67b25d",
   "metadata": {},
   "source": [
    "d)\tSelect the input data (refund, marital_status, income_above_80k) in the training data and apply your predict function to the input data to predict the outcome values of the input data. Your function should return a vector of predicted values. "
   ]
  },
  {
   "cell_type": "code",
   "execution_count": 4,
   "id": "0d0698a6-3c80-490e-9a13-46a535b67875",
   "metadata": {},
   "outputs": [
    {
     "data": {
      "text/plain": [
       "array([[0.],\n",
       "       [0.],\n",
       "       [0.],\n",
       "       [0.],\n",
       "       [1.],\n",
       "       [1.],\n",
       "       [0.],\n",
       "       [1.],\n",
       "       [0.],\n",
       "       [1.]])"
      ]
     },
     "execution_count": 4,
     "metadata": {},
     "output_type": "execute_result"
    }
   ],
   "source": [
    "\n",
    "cheat_array =np.array([['yes','single','yes'],['no','married','yes'],['no','single','no'],\n",
    "              ['yes','married','yes' ],['no','divorced','yes'],['no','divorced','yes'],\n",
    "              ['yes','divorced','yes'],['no','single','yes'],['no',\n",
    "            'married','no'],['no','single','yes']])\n",
    "\n",
    "cheat_frame = pd.DataFrame(cheat_array, columns = ['refund','marital_status',\n",
    "                                          'income_above_80k'])\n",
    "cheat_frame['cheat']=[0,0,0,0,1,0,0,1,0,1]\n",
    "cheat_frame['predict']=0\n",
    "\n",
    "predict(cheat_array)\n"
   ]
  },
  {
   "cell_type": "markdown",
   "id": "90862ede-6eb0-4a6d-87c5-e6e07eb82b39",
   "metadata": {},
   "source": [
    "e)\tSelect the input data (refund, marital_status, income_above_80k) in the training data and apply your vectorized_predict function to the input data to predict the outcome values of the input data. Your function should return a vector of predicted values. Are the predicted values with the vectorized_predict function the same as the predicted values obtained through the predict function? (you should have the same results). "
   ]
  },
  {
   "cell_type": "code",
   "execution_count": 5,
   "id": "2f2725ce-e832-4784-88a9-e22e1c3971bb",
   "metadata": {},
   "outputs": [
    {
     "data": {
      "text/plain": [
       "array([0, 0, 0, 0, 1, 1, 0, 1, 0, 1], dtype=int64)"
      ]
     },
     "execution_count": 5,
     "metadata": {},
     "output_type": "execute_result"
    }
   ],
   "source": [
    "vectorized_predict (cheat_frame)"
   ]
  },
  {
   "cell_type": "markdown",
   "id": "3e74d0ca-399d-4587-b747-30bb2fce4bfc",
   "metadata": {},
   "source": [
    "f)\tInclude the predicted values as a column to the training data and name that column predicted_cheat. "
   ]
  },
  {
   "cell_type": "code",
   "execution_count": 6,
   "id": "d94355c0-3ac1-4e3f-910d-3af9d93bb811",
   "metadata": {},
   "outputs": [],
   "source": [
    "cheat_frame.rename(columns={\"predict\": \"predicted_cheat\"},inplace=True)"
   ]
  },
  {
   "cell_type": "markdown",
   "id": "64cf1eff-9674-4d9a-93ef-83b760acb711",
   "metadata": {},
   "source": [
    "g)\tCreate a function that computes the overall accuracy of the classification. You can call this function overall_accuracy. The function should take two arguments, a vector of  actual output values and a vector of predicted output values, then returns the classification accuracy. Inside the function, you can use boolean logic to compare the actual and predicted values, then count the proportion of how many predicted values are equal to the actual values to get the overall accuracy. "
   ]
  },
  {
   "cell_type": "code",
   "execution_count": 7,
   "id": "951db604-55cd-44a2-aadd-bc90d5a31098",
   "metadata": {},
   "outputs": [
    {
     "data": {
      "text/plain": [
       "0.9"
      ]
     },
     "execution_count": 7,
     "metadata": {},
     "output_type": "execute_result"
    }
   ],
   "source": [
    "def overall_accuracy(col1,col2):\n",
    "    a_compare = (col1==col2)\n",
    "    return((np.count_nonzero(a_compare== True))/(a_compare.size))\n",
    "\n",
    "\n",
    "overall_accuracy(cheat_frame['cheat'].to_numpy(),\n",
    "                 cheat_frame['predicted_cheat'].to_numpy())\n"
   ]
  },
  {
   "cell_type": "markdown",
   "id": "ffc620a2-0b50-43c4-8318-7828578be103",
   "metadata": {},
   "source": [
    "h)\tCreate a confusion matrix using the predicted and actual output values. You can use pandas crosstab function. "
   ]
  },
  {
   "cell_type": "code",
   "execution_count": 8,
   "id": "33d3dee4-d20d-4770-90f6-dbaced708cb7",
   "metadata": {},
   "outputs": [
    {
     "data": {
      "text/html": [
       "<div>\n",
       "<style scoped>\n",
       "    .dataframe tbody tr th:only-of-type {\n",
       "        vertical-align: middle;\n",
       "    }\n",
       "\n",
       "    .dataframe tbody tr th {\n",
       "        vertical-align: top;\n",
       "    }\n",
       "\n",
       "    .dataframe thead th {\n",
       "        text-align: right;\n",
       "    }\n",
       "</style>\n",
       "<table border=\"1\" class=\"dataframe\">\n",
       "  <thead>\n",
       "    <tr style=\"text-align: right;\">\n",
       "      <th>predicted_cheat</th>\n",
       "      <th>0</th>\n",
       "      <th>1</th>\n",
       "    </tr>\n",
       "    <tr>\n",
       "      <th>cheat</th>\n",
       "      <th></th>\n",
       "      <th></th>\n",
       "    </tr>\n",
       "  </thead>\n",
       "  <tbody>\n",
       "    <tr>\n",
       "      <th>0</th>\n",
       "      <td>6</td>\n",
       "      <td>1</td>\n",
       "    </tr>\n",
       "    <tr>\n",
       "      <th>1</th>\n",
       "      <td>0</td>\n",
       "      <td>3</td>\n",
       "    </tr>\n",
       "  </tbody>\n",
       "</table>\n",
       "</div>"
      ],
      "text/plain": [
       "predicted_cheat  0  1\n",
       "cheat                \n",
       "0                6  1\n",
       "1                0  3"
      ]
     },
     "execution_count": 8,
     "metadata": {},
     "output_type": "execute_result"
    }
   ],
   "source": [
    "pd.crosstab(cheat_frame['cheat'], cheat_frame['predicted_cheat'])"
   ]
  },
  {
   "cell_type": "markdown",
   "id": "83415eb5-7128-4d29-99d7-e7d7c4327b4d",
   "metadata": {},
   "source": [
    "i) Apply the vectorized_predict function to the input of the test dataset to predict the output values for the test dataset. Include these predicted values as a column to the test dataset and called this column predicted_cheat. "
   ]
  },
  {
   "cell_type": "code",
   "execution_count": 9,
   "id": "72465e44-b19b-486f-a888-cf85979bd455",
   "metadata": {},
   "outputs": [
    {
     "data": {
      "text/html": [
       "<div>\n",
       "<style scoped>\n",
       "    .dataframe tbody tr th:only-of-type {\n",
       "        vertical-align: middle;\n",
       "    }\n",
       "\n",
       "    .dataframe tbody tr th {\n",
       "        vertical-align: top;\n",
       "    }\n",
       "\n",
       "    .dataframe thead th {\n",
       "        text-align: right;\n",
       "    }\n",
       "</style>\n",
       "<table border=\"1\" class=\"dataframe\">\n",
       "  <thead>\n",
       "    <tr style=\"text-align: right;\">\n",
       "      <th></th>\n",
       "      <th>refund</th>\n",
       "      <th>marital_status</th>\n",
       "      <th>income_above_80k</th>\n",
       "      <th>cheat</th>\n",
       "      <th>predicted_cheat</th>\n",
       "    </tr>\n",
       "  </thead>\n",
       "  <tbody>\n",
       "    <tr>\n",
       "      <th>0</th>\n",
       "      <td>no</td>\n",
       "      <td>single</td>\n",
       "      <td>yes</td>\n",
       "      <td>0</td>\n",
       "      <td>1</td>\n",
       "    </tr>\n",
       "    <tr>\n",
       "      <th>1</th>\n",
       "      <td>no</td>\n",
       "      <td>single</td>\n",
       "      <td>yes</td>\n",
       "      <td>0</td>\n",
       "      <td>1</td>\n",
       "    </tr>\n",
       "    <tr>\n",
       "      <th>2</th>\n",
       "      <td>no</td>\n",
       "      <td>married</td>\n",
       "      <td>yes</td>\n",
       "      <td>0</td>\n",
       "      <td>0</td>\n",
       "    </tr>\n",
       "    <tr>\n",
       "      <th>3</th>\n",
       "      <td>no</td>\n",
       "      <td>divorced</td>\n",
       "      <td>no</td>\n",
       "      <td>0</td>\n",
       "      <td>0</td>\n",
       "    </tr>\n",
       "    <tr>\n",
       "      <th>4</th>\n",
       "      <td>no</td>\n",
       "      <td>married</td>\n",
       "      <td>yes</td>\n",
       "      <td>0</td>\n",
       "      <td>0</td>\n",
       "    </tr>\n",
       "    <tr>\n",
       "      <th>5</th>\n",
       "      <td>no</td>\n",
       "      <td>single</td>\n",
       "      <td>yes</td>\n",
       "      <td>0</td>\n",
       "      <td>1</td>\n",
       "    </tr>\n",
       "    <tr>\n",
       "      <th>6</th>\n",
       "      <td>yes</td>\n",
       "      <td>single</td>\n",
       "      <td>yes</td>\n",
       "      <td>0</td>\n",
       "      <td>0</td>\n",
       "    </tr>\n",
       "    <tr>\n",
       "      <th>7</th>\n",
       "      <td>no</td>\n",
       "      <td>single</td>\n",
       "      <td>yes</td>\n",
       "      <td>1</td>\n",
       "      <td>1</td>\n",
       "    </tr>\n",
       "    <tr>\n",
       "      <th>8</th>\n",
       "      <td>yes</td>\n",
       "      <td>married</td>\n",
       "      <td>yes</td>\n",
       "      <td>1</td>\n",
       "      <td>0</td>\n",
       "    </tr>\n",
       "    <tr>\n",
       "      <th>9</th>\n",
       "      <td>yes</td>\n",
       "      <td>single</td>\n",
       "      <td>no</td>\n",
       "      <td>1</td>\n",
       "      <td>0</td>\n",
       "    </tr>\n",
       "  </tbody>\n",
       "</table>\n",
       "</div>"
      ],
      "text/plain": [
       "  refund marital_status income_above_80k  cheat  predicted_cheat\n",
       "0     no         single              yes      0                1\n",
       "1     no         single              yes      0                1\n",
       "2     no        married              yes      0                0\n",
       "3     no       divorced               no      0                0\n",
       "4     no        married              yes      0                0\n",
       "5     no         single              yes      0                1\n",
       "6    yes         single              yes      0                0\n",
       "7     no         single              yes      1                1\n",
       "8    yes        married              yes      1                0\n",
       "9    yes         single               no      1                0"
      ]
     },
     "execution_count": 9,
     "metadata": {},
     "output_type": "execute_result"
    }
   ],
   "source": [
    "test_array =np.array([['no','single','yes'],['no','single', 'yes'],['no','married','yes'],\n",
    "              ['no','divorced','no'],['no','married','yes'],['no','single','yes'],\n",
    "              ['yes','single','yes'],['no','single','yes'],['yes','married','yes'],\n",
    "                                                          ['yes','single','no']])\n",
    "test_frame = pd.DataFrame(test_array, columns = ['refund','marital_status',\n",
    "                                          'income_above_80k'])\n",
    "test_frame['cheat']=[0,0,0,0,0,0,0,1,1,1]\n",
    "test_frame['predict']=0\n",
    "\n",
    "test_frame['predict']=vectorized_predict (test_frame)\n",
    "test_frame.rename(columns={\"predict\": \"predicted_cheat\"},inplace=True)\n",
    "test_frame"
   ]
  },
  {
   "cell_type": "markdown",
   "id": "ecd01021-4ad0-47a1-8f69-19c66b885024",
   "metadata": {},
   "source": [
    "j)\tApply the overall_accuracy function to the predicted out values and actual output values of the test set to compute the overall accuracy. Compare the overall accuracy of the test set and that of the training set. Is there overfitting? Why or why not? If there is overfitting, what would you do to avoid overfitting the rule to the training set? "
   ]
  },
  {
   "cell_type": "code",
   "execution_count": 10,
   "id": "02db8884-80e0-47eb-88ec-f95ca0ca6f38",
   "metadata": {},
   "outputs": [
    {
     "data": {
      "text/plain": [
       "0.5"
      ]
     },
     "execution_count": 10,
     "metadata": {},
     "output_type": "execute_result"
    }
   ],
   "source": [
    "overall_accuracy(test_frame['cheat'].to_numpy(),\n",
    "                 test_frame['predicted_cheat'].to_numpy())"
   ]
  },
  {
   "cell_type": "markdown",
   "id": "e741fa99-3791-4234-9aab-53fc34cfbe01",
   "metadata": {},
   "source": [
    "There seems to be overfitting, as the accuracy dropped from .9 for the training set to .5 for the \n",
    "test set.  To mitigate the overfitting we could try to retrain the model using a simpler rule with fewer provisos."
   ]
  },
  {
   "cell_type": "markdown",
   "id": "be32d476-d5cb-46ef-ab9f-8f0be29f9065",
   "metadata": {},
   "source": [
    "a) Given the training dataset in question 1, write a function that computes the entropy of \n",
    "output variable. The function should take the entire training dataset, and the name of the \n",
    "output variable as arguments and return the entropy value. You can call the function, \n",
    "entropy. \n",
    "Note that entropy H(S) of the target variable T with possible values 𝐶𝑖 for a set of S \n",
    "examples is given by:\n",
    "H(S) =  ― ∑𝑐\n",
    "𝑖= 1𝑝𝑖log2 𝑝𝑖 \n",
    "where 𝑝𝑖 𝑖𝑠 𝑝𝑟𝑜𝑝𝑜𝑟𝑡𝑖𝑜𝑛 𝑜𝑓 𝑐𝑙𝑎𝑠𝑠 𝑐𝑖 𝑖𝑛 𝑡ℎ𝑒 𝑆 𝑒𝑥𝑎𝑚𝑝𝑙𝑒𝑠 \n",
    "Alternatively, you could also define entropy for a binary target variable as:\n",
    "Where p = proportion of the desired class or proportion of “yes” in the given data. \n",
    "Apply the entropy function to the training dataset to compute the entropy. Do you think \n",
    "the data is more pure, less pure or more/less pure?"
   ]
  },
  {
   "cell_type": "code",
   "execution_count": 11,
   "id": "32ef6025-75ae-40d4-b467-f0fb94a782f5",
   "metadata": {},
   "outputs": [
    {
     "data": {
      "text/plain": [
       "0.8812908992306927"
      ]
     },
     "execution_count": 11,
     "metadata": {},
     "output_type": "execute_result"
    }
   ],
   "source": [
    "def entropy(data,var):\n",
    "    p=(data[var].value_counts()[0])/(len(data[var]))\n",
    "    l=math.log(p, 2.0)\n",
    "    l2=math.log(1-p, 2.0)\n",
    "    return -p*l-(1-p)*l2\n",
    "\n",
    "entropy(cheat_frame,'cheat')"
   ]
  },
  {
   "cell_type": "markdown",
   "id": "169c9809-df0d-47c2-9f0c-88eca6ac5c54",
   "metadata": {},
   "source": [
    "This data is quite impure, as the entropy value is close to one."
   ]
  },
  {
   "cell_type": "markdown",
   "id": "4eed66da-6bb1-4510-ac99-1530e60a9396",
   "metadata": {},
   "source": [
    "b) Create another function that takes the dataset, the name of the output variable, and a \n",
    "specific input variable as arguments and returns the information gain for a split of the \n",
    "data on that specific input variable. You can call the function, information_gain. \n",
    "Information gain is defined as:\n",
    "Apply the information_gain function to each input variable to compute the information \n",
    "gain for each input variable. Which input variables is the best (has the highest \n",
    "information gain) for creating one-rule? "
   ]
  },
  {
   "cell_type": "code",
   "execution_count": 21,
   "id": "f208de27-1697-4ea6-8695-81351bc49f14",
   "metadata": {},
   "outputs": [
    {
     "data": {
      "text/plain": [
       "0.19163120400671663"
      ]
     },
     "execution_count": 21,
     "metadata": {},
     "output_type": "execute_result"
    }
   ],
   "source": [
    "ent=entropy(cheat_frame,'cheat')\n",
    "\n",
    "def information_gain(invar,outvar):\n",
    "    ent1 = 0\n",
    "    ent2 = 0\n",
    "    ent3 = 0\n",
    "    ig = 0\n",
    "    \n",
    "    df1= cheat_frame[invar ==invar.unique()[0]]\n",
    "    port1 = len(df1.groupby(by=\"cheat\", dropna=False).sum())\n",
    "    if port1!=1:\n",
    "        ent1=entropy(df1,'cheat')\n",
    "        \n",
    "    df2 = cheat_frame[invar ==invar.unique()[1]]\n",
    "    port2 = len(df2.groupby(by=\"cheat\", dropna=False).sum())\n",
    "    if port2!=1:\n",
    "        ent2=entropy(df2,'cheat')\n",
    "        weight = (ent1)*(len(df1)/len(cheat_frame))+(ent2)*(len(df2)/len(cheat_frame))\n",
    "        ig = ent-weight\n",
    "        \n",
    "    if len(cheat_frame.groupby(by=invar, dropna=False).sum())==3:\n",
    "        df3= cheat_frame[invar ==invar.unique()[2]]\n",
    "        port3 = len(df3.groupby(by=\"cheat\", dropna=False).sum())\n",
    "        if port3!=1:\n",
    "            ent3=entropy(df3,'cheat')\n",
    "            weight2 = (ent1)*(len(df1)/len(cheat_frame))+(ent2)*(len(df2)/len(cheat_frame))+(ent3)*(len(df3)/len(cheat_frame))\n",
    "            ig = ent-weight2\n",
    "    \n",
    "    return ig\n",
    "    \n",
    "    \n",
    "information_gain(cheat_frame['refund'],cheat_frame['cheat'])\n"
   ]
  },
  {
   "cell_type": "code",
   "execution_count": 13,
   "id": "83274339-bda5-491a-8e3d-f02b6ef59e2f",
   "metadata": {},
   "outputs": [
    {
     "data": {
      "text/plain": [
       "0.2058021490143458"
      ]
     },
     "execution_count": 13,
     "metadata": {},
     "output_type": "execute_result"
    }
   ],
   "source": [
    "information_gain(cheat_frame['marital_status'],cheat_frame['cheat'])"
   ]
  },
  {
   "cell_type": "code",
   "execution_count": 14,
   "id": "64b905d1-00c9-4440-9ae0-5e2a83c2abd3",
   "metadata": {},
   "outputs": [
    {
     "data": {
      "text/plain": [
       "0"
      ]
     },
     "execution_count": 14,
     "metadata": {},
     "output_type": "execute_result"
    }
   ],
   "source": [
    "information_gain(cheat_frame['income_above_80k'],cheat_frame['cheat'])\n"
   ]
  },
  {
   "cell_type": "markdown",
   "id": "63ab7f73-6889-4289-b49a-bce7dd2d625d",
   "metadata": {},
   "source": [
    "For this dataset, the attribute: \"marital_status\" has the highest information gain ( approx. .21) relative to the output variable \"cheat\".  For this set, it is the best predictor."
   ]
  },
  {
   "cell_type": "markdown",
   "id": "26063258-4cbb-4047-8430-8bc4ea65567c",
   "metadata": {},
   "source": [
    "Do a cross tabulation using the best attribute obtained in 2b above and the output variable \n",
    "in the training dataset. \n"
   ]
  },
  {
   "cell_type": "code",
   "execution_count": 15,
   "id": "2d078c2e-d9c5-4634-bf6f-a4a3f005cbf2",
   "metadata": {},
   "outputs": [
    {
     "data": {
      "text/html": [
       "<div>\n",
       "<style scoped>\n",
       "    .dataframe tbody tr th:only-of-type {\n",
       "        vertical-align: middle;\n",
       "    }\n",
       "\n",
       "    .dataframe tbody tr th {\n",
       "        vertical-align: top;\n",
       "    }\n",
       "\n",
       "    .dataframe thead th {\n",
       "        text-align: right;\n",
       "    }\n",
       "</style>\n",
       "<table border=\"1\" class=\"dataframe\">\n",
       "  <thead>\n",
       "    <tr style=\"text-align: right;\">\n",
       "      <th>cheat</th>\n",
       "      <th>0</th>\n",
       "      <th>1</th>\n",
       "    </tr>\n",
       "    <tr>\n",
       "      <th>marital_status</th>\n",
       "      <th></th>\n",
       "      <th></th>\n",
       "    </tr>\n",
       "  </thead>\n",
       "  <tbody>\n",
       "    <tr>\n",
       "      <th>divorced</th>\n",
       "      <td>2</td>\n",
       "      <td>1</td>\n",
       "    </tr>\n",
       "    <tr>\n",
       "      <th>married</th>\n",
       "      <td>3</td>\n",
       "      <td>0</td>\n",
       "    </tr>\n",
       "    <tr>\n",
       "      <th>single</th>\n",
       "      <td>2</td>\n",
       "      <td>2</td>\n",
       "    </tr>\n",
       "  </tbody>\n",
       "</table>\n",
       "</div>"
      ],
      "text/plain": [
       "cheat           0  1\n",
       "marital_status      \n",
       "divorced        2  1\n",
       "married         3  0\n",
       "single          2  2"
      ]
     },
     "execution_count": 15,
     "metadata": {},
     "output_type": "execute_result"
    }
   ],
   "source": [
    "pd.crosstab(cheat_frame['marital_status'], cheat_frame['cheat'])"
   ]
  },
  {
   "cell_type": "markdown",
   "id": "837cf6d2-6811-4bf0-b705-025af64ff0da",
   "metadata": {},
   "source": [
    "\n",
    "f)\tUsing the antecedent of your rule, extract the data covered by the rule and compute the coverage of the rule. \n",
    " \n",
    "coverage=(4 single instances/10 total instances) = .4\n"
   ]
  },
  {
   "cell_type": "markdown",
   "id": "6bd9c42f-9829-4d41-9a8d-5d12b3da4159",
   "metadata": {},
   "source": [
    "g)\tUsing the antecedent and precedent of your rule, extract the data covered by the rule and compute the accuracy of the rule. \n",
    " \n",
    "Accuracy = (2 single status cheated)/(4 covered by antecedent) = .5\n"
   ]
  },
  {
   "cell_type": "markdown",
   "id": "42f483cb-e24a-4747-9832-418a0ee55c25",
   "metadata": {},
   "source": [
    "h)\tCreate a function that implents the rule as an if-else statement to predict the outcomes of any instance (a vector of values associated with the input variables for a specific individual). The function should be able to take one or more instances as an argument in the form of a dataframe or numpy arrary. \n",
    "Paste your code an output here\n"
   ]
  },
  {
   "cell_type": "code",
   "execution_count": 16,
   "id": "bf116461-ef5f-4e94-86c9-cf8a06fb6855",
   "metadata": {},
   "outputs": [],
   "source": [
    "def married_predict(data): \n",
    "    counter=0\n",
    "    mar_pred_array = np.zeros(shape=(len(data),1))\n",
    "    for i in data:\n",
    "        if  i[1] == \"single\":\n",
    "            mar_pred_array[counter]=1\n",
    "        else:\n",
    "            mar_pred_array[counter]=0\n",
    "        counter+=1\n",
    "    return(mar_pred_array)"
   ]
  },
  {
   "cell_type": "markdown",
   "id": "c8643472-9309-4ea1-90f8-e5b3e2493af4",
   "metadata": {},
   "source": [
    "i)\tImplemement the function on the training set and test set in question 1 to get the predicted outputs for the training set and test set.  \n",
    "\n"
   ]
  },
  {
   "cell_type": "code",
   "execution_count": 17,
   "id": "0eb6f7a7-96f4-48bf-bf0c-6516db6e2356",
   "metadata": {},
   "outputs": [
    {
     "data": {
      "text/plain": [
       "array([[1.],\n",
       "       [0.],\n",
       "       [1.],\n",
       "       [0.],\n",
       "       [0.],\n",
       "       [0.],\n",
       "       [0.],\n",
       "       [1.],\n",
       "       [0.],\n",
       "       [1.]])"
      ]
     },
     "execution_count": 17,
     "metadata": {},
     "output_type": "execute_result"
    }
   ],
   "source": [
    "married_predict(cheat_array)"
   ]
  },
  {
   "cell_type": "code",
   "execution_count": 18,
   "id": "be0f63bb-0c4b-484d-a50c-5a96bc85f85f",
   "metadata": {},
   "outputs": [
    {
     "data": {
      "text/plain": [
       "array([[1.],\n",
       "       [1.],\n",
       "       [0.],\n",
       "       [0.],\n",
       "       [0.],\n",
       "       [1.],\n",
       "       [1.],\n",
       "       [1.],\n",
       "       [0.],\n",
       "       [1.]])"
      ]
     },
     "execution_count": 18,
     "metadata": {},
     "output_type": "execute_result"
    }
   ],
   "source": [
    "married_predict(test_array)"
   ]
  },
  {
   "cell_type": "code",
   "execution_count": 19,
   "id": "252d912f-f4d7-48ec-8228-95fdaf294bbc",
   "metadata": {},
   "outputs": [
    {
     "data": {
      "text/plain": [
       "0.7"
      ]
     },
     "execution_count": 19,
     "metadata": {},
     "output_type": "execute_result"
    }
   ],
   "source": [
    "cheat_frame['married_predict'] = married_predict(cheat_array)\n",
    "cheat_frame['married_predict']=cheat_frame.married_predict.astype('int64')\n",
    "overall_accuracy(cheat_frame['cheat'].to_numpy(),\n",
    "                 cheat_frame['married_predict'].to_numpy())\n",
    "\n"
   ]
  },
  {
   "cell_type": "code",
   "execution_count": 20,
   "id": "441421b7-ddab-441c-ac25-e0c895fb218f",
   "metadata": {},
   "outputs": [
    {
     "data": {
      "text/plain": [
       "0.5"
      ]
     },
     "execution_count": 20,
     "metadata": {},
     "output_type": "execute_result"
    }
   ],
   "source": [
    "test_frame['married_predict'] = married_predict(test_array)\n",
    "test_frame['married_predict']=test_frame.married_predict.astype('int64')\n",
    "overall_accuracy(test_frame['cheat'].to_numpy(),\n",
    "                 test_frame['married_predict'].to_numpy())"
   ]
  },
  {
   "cell_type": "markdown",
   "id": "130c91fa-65c3-4da1-bae7-7f4e2bed5637",
   "metadata": {},
   "source": [
    "Again, it seems there was a degree of underfitting, as the accuracy decreased from .7 on the training set to .5 on the test set.  Additionally, since the model was generating a binary prediction, the accuracy on the test set of .5 means the model is hardly useful."
   ]
  },
  {
   "cell_type": "code",
   "execution_count": null,
   "id": "b6dcf530-3a13-4cc7-b71a-de39010b3b8c",
   "metadata": {},
   "outputs": [],
   "source": []
  }
 ],
 "metadata": {
  "kernelspec": {
   "display_name": "Python 3 (ipykernel)",
   "language": "python",
   "name": "python3"
  },
  "language_info": {
   "codemirror_mode": {
    "name": "ipython",
    "version": 3
   },
   "file_extension": ".py",
   "mimetype": "text/x-python",
   "name": "python",
   "nbconvert_exporter": "python",
   "pygments_lexer": "ipython3",
   "version": "3.8.13"
  }
 },
 "nbformat": 4,
 "nbformat_minor": 5
}
